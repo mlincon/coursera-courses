{
 "cells": [
  {
   "cell_type": "markdown",
   "metadata": {},
   "source": [
    "---\n",
    "\n",
    "_You are currently looking at **version 1.1** of this notebook. To download notebooks and datafiles, as well as get help on Jupyter notebooks in the Coursera platform, visit the [Jupyter Notebook FAQ](https://www.coursera.org/learn/python-text-mining/resources/d9pwm) course resource._\n",
    "\n",
    "---"
   ]
  },
  {
   "cell_type": "markdown",
   "metadata": {},
   "source": [
    "# Assignment 1\n",
    "\n",
    "In this assignment, you'll be working with messy medical data and using regex to extract relevant infromation from the data. \n",
    "\n",
    "Each line of the `dates.txt` file corresponds to a medical note. Each note has a date that needs to be extracted, but each date is encoded in one of many formats.\n",
    "\n",
    "The goal of this assignment is to correctly identify all of the different date variants encoded in this dataset and to properly normalize and sort the dates. \n",
    "\n",
    "Here is a list of some of the variants you might encounter in this dataset:\n",
    "* 04/20/2009; 04/20/09; 4/20/09; 4/3/09\n",
    "* Mar-20-2009; Mar 20, 2009; March 20, 2009;  Mar. 20, 2009; Mar 20 2009;\n",
    "* 20 Mar 2009; 20 March 2009; 20 Mar. 2009; 20 March, 2009\n",
    "* Mar 20th, 2009; Mar 21st, 2009; Mar 22nd, 2009\n",
    "* Feb 2009; Sep 2009; Oct 2010\n",
    "* 6/2008; 12/2009\n",
    "* 2009; 2010\n",
    "\n",
    "Once you have extracted these date patterns from the text, the next step is to sort them in ascending chronological order accoring to the following rules:\n",
    "* Assume all dates in xx/xx/xx format are mm/dd/yy\n",
    "* Assume all dates where year is encoded in only two digits are years from the 1900's (e.g. 1/5/89 is January 5th, 1989)\n",
    "* If the day is missing (e.g. 9/2009), assume it is the first day of the month (e.g. September 1, 2009).\n",
    "* If the month is missing (e.g. 2010), assume it is the first of January of that year (e.g. January 1, 2010).\n",
    "* Watch out for potential typos as this is a raw, real-life derived dataset.\n",
    "\n",
    "With these rules in mind, find the correct date in each note and return a pandas Series in chronological order of the original Series' indices.\n",
    "\n",
    "For example if the original series was this:\n",
    "\n",
    "    0    1999\n",
    "    1    2010\n",
    "    2    1978\n",
    "    3    2015\n",
    "    4    1985\n",
    "\n",
    "Your function should return this:\n",
    "\n",
    "    0    2\n",
    "    1    4\n",
    "    2    0\n",
    "    3    1\n",
    "    4    3\n",
    "\n",
    "Your score will be calculated using [Kendall's tau](https://en.wikipedia.org/wiki/Kendall_rank_correlation_coefficient), a correlation measure for ordinal data.\n",
    "\n",
    "*This function should return a Series of length 500 and dtype int.*"
   ]
  },
  {
   "cell_type": "code",
   "execution_count": 1,
   "metadata": {},
   "outputs": [
    {
     "data": {
      "text/plain": [
       "0         03/25/93 Total time of visit (in minutes):\\n\n",
       "1                       6/18/85 Primary Care Doctor:\\n\n",
       "2    sshe plans to move as of 7/8/71 In-Home Servic...\n",
       "3                7 on 9/27/75 Audit C Score Current:\\n\n",
       "4    2/6/96 sleep studyPain Treatment Pain Level (N...\n",
       "5                    .Per 7/06/79 Movement D/O note:\\n\n",
       "6    4, 5/18/78 Patient's thoughts about current su...\n",
       "7    10/24/89 CPT Code: 90801 - Psychiatric Diagnos...\n",
       "8                         3/7/86 SOS-10 Total Score:\\n\n",
       "9             (4/10/71)Score-1Audit C Score Current:\\n\n",
       "dtype: object"
      ]
     },
     "execution_count": 1,
     "metadata": {},
     "output_type": "execute_result"
    }
   ],
   "source": [
    "import pandas as pd\n",
    "\n",
    "doc = []\n",
    "with open('dates.txt') as file:\n",
    "    for line in file:\n",
    "        doc.append(line)\n",
    "\n",
    "df = pd.Series(doc)\n",
    "df.head(10)"
   ]
  },
  {
   "cell_type": "code",
   "execution_count": 2,
   "metadata": {
    "collapsed": true
   },
   "outputs": [],
   "source": [
    "import numpy as np\n",
    "import re\n",
    "from datetime import datetime\n",
    "\n",
    "# regex\n",
    "months_ = 'January|February|March|April|May|June|July|August|September|October|November|December'\n",
    "mons_ = 'Jan|Feb|Mar|Apr|May|Jun|Jul|Aug|Sept|Sep|Oct|Nov|Dec'\n",
    "\n",
    "regex_ = r'(\\d{0,2}[-/]?\\d{0,2}[-/]\\d{2,4})|((?:'+months_+'|'+mons_+')[-\\s\\.]?[\\s]?\\d{0,2}[stndrdh]{0,2}[-,]?[\\s]?\\d{2,4})|([12]\\d{3})'\n",
    "\n",
    "# date formats\n",
    "date_formats = ['%m/%d/%Y', '%m-%d-%Y', '%m/%d/%y', '%m-%d-%y', '%m/%Y', '%b-%d-%Y', '%B-%d-%Y', '%B. %d, %Y',\n",
    "                '%b %d %Y', '%b %d, %Y', '%B %d, %Y','%B %d %Y', '%b. %d, %Y', '%d %b %Y', '%d %B %Y', '%d %b. %Y',\n",
    "                '%B %Y', '%b %Y', '%Y', '%B, %Y', '%b, %Y']\n",
    "\n",
    "# function to extract date based on date formats\n",
    "def extract_date(date_):\n",
    "    for date_format in date_formats :\n",
    "        try:\n",
    "            parsed_date = datetime.strptime(date_, date_format)\n",
    "            break \n",
    "        except ValueError:\n",
    "            parsed_date = date_\n",
    "            pass\n",
    "    return parsed_date"
   ]
  },
  {
   "cell_type": "code",
   "execution_count": 3,
   "metadata": {
    "collapsed": true
   },
   "outputs": [],
   "source": [
    "def date_sorter():\n",
    "    \n",
    "    # pd.set_option('display.max_rows', 500)\n",
    "    # https://regex101.com/r/niLalP/5\n",
    "    # https://regex101.com/r/qauHKd/5\n",
    "    result = pd.DataFrame(df.str.extract(regex_))\n",
    "    dates_ = np.where(result[2].isnull(), np.where(result[1].isnull(), result[0], result[1]), result[2])\n",
    "    \n",
    "    # [80, 248, 271, 272, 417]\n",
    "    # [print(value) for index, value in df[[39, 80, 99, 198, 204, 248, 271, 272, 417]].items()]\n",
    "    dates_[80] = re.findall(regex_, df[80])[1][0]\n",
    "    dates_[99] = re.findall(regex_, df[99])[0][0][1:] + re.findall(regex_, df[99])[1][0]\n",
    "    dates_[248] = re.findall(regex_, df[248])[1][1]\n",
    "    dates_[271] = re.findall(regex_, df[271])[2][1]\n",
    "    dates_[272] = re.findall(regex_, df[272])[2][1]\n",
    "    dates_[417] = re.findall(regex_, df[417])[0][0][1:]\n",
    "    \n",
    "    extracted_dates = pd.Series(list(map(extract_date, dates_)))\n",
    "    sorted_index = pd.Series(extracted_dates.sort_values().index)\n",
    "    \n",
    "    return sorted_index"
   ]
  }
 ],
 "metadata": {
  "coursera": {
   "course_slug": "python-text-mining",
   "graded_item_id": "LvcWI",
   "launcher_item_id": "krne9",
   "part_id": "Mkp1I"
  },
  "kernelspec": {
   "display_name": "Python 3",
   "language": "python",
   "name": "python3"
  },
  "language_info": {
   "codemirror_mode": {
    "name": "ipython",
    "version": 3
   },
   "file_extension": ".py",
   "mimetype": "text/x-python",
   "name": "python",
   "nbconvert_exporter": "python",
   "pygments_lexer": "ipython3",
   "version": "3.6.2"
  }
 },
 "nbformat": 4,
 "nbformat_minor": 2
}
