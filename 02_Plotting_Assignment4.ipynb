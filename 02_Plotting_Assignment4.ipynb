{
 "cells": [
  {
   "cell_type": "markdown",
   "metadata": {},
   "source": [
    "# Assignment 4\n",
    "\n",
    "Before working on this assignment please read these instructions fully. In the submission area, you will notice that you can click the link to **Preview the Grading** for each step of the assignment. This is the criteria that will be used for peer grading. Please familiarize yourself with the criteria before beginning the assignment.\n",
    "\n",
    "This assignment requires that you to find **at least** two datasets on the web which are related, and that you visualize these datasets to answer a question with the broad topic of **economic activity or measures** (see below) for the region of **None, North Rhine-Westphalia, Germany**, or **Germany** more broadly.\n",
    "\n",
    "You can merge these datasets with data from different regions if you like! For instance, you might want to compare **None, North Rhine-Westphalia, Germany** to Ann Arbor, USA. In that case at least one source file must be about **None, North Rhine-Westphalia, Germany**.\n",
    "\n",
    "You are welcome to choose datasets at your discretion, but keep in mind **they will be shared with your peers**, so choose appropriate datasets. Sensitive, confidential, illicit, and proprietary materials are not good choices for datasets for this assignment. You are welcome to upload datasets of your own as well, and link to them using a third party repository such as github, bitbucket, pastebin, etc. Please be aware of the Coursera terms of service with respect to intellectual property.\n",
    "\n",
    "Also, you are welcome to preserve data in its original language, but for the purposes of grading you should provide english translations. You are welcome to provide multiple visuals in different languages if you would like!\n",
    "\n",
    "As this assignment is for the whole course, you must incorporate principles discussed in the first week, such as having as high data-ink ratio (Tufte) and aligning with Cairo’s principles of truth, beauty, function, and insight.\n",
    "\n",
    "Here are the assignment instructions:\n",
    "\n",
    " * State the region and the domain category that your data sets are about (e.g., **None, North Rhine-Westphalia, Germany** and **economic activity or measures**).\n",
    " * You must state a question about the domain category and region that you identified as being interesting.\n",
    " * You must provide at least two links to available datasets. These could be links to files such as CSV or Excel files, or links to websites which might have data in tabular form, such as Wikipedia pages.\n",
    " * You must upload an image which addresses the research question you stated. In addition to addressing the question, this visual should follow Cairo's principles of truthfulness, functionality, beauty, and insightfulness.\n",
    " * You must contribute a short (1-2 paragraph) written justification of how your visualization addresses your stated research question.\n",
    "\n",
    "What do we mean by **economic activity or measures**?  For this category you might look at the inputs or outputs to the given economy, or major changes in the economy compared to other regions.\n",
    "\n",
    "## Tips\n",
    "* Wikipedia is an excellent source of data, and I strongly encourage you to explore it for new data sources.\n",
    "* Many governments run open data initiatives at the city, region, and country levels, and these are wonderful resources for localized data sources.\n",
    "* Several international agencies, such as the [United Nations](http://data.un.org/), the [World Bank](http://data.worldbank.org/), the [Global Open Data Index](http://index.okfn.org/place/) are other great places to look for data.\n",
    "* This assignment requires you to convert and clean datafiles. Check out the discussion forums for tips on how to do this from various sources, and share your successes with your fellow students!\n",
    "\n",
    "## Example\n",
    "Looking for an example? Here's what our course assistant put together for the **Ann Arbor, MI, USA** area using **sports and athletics** as the topic. [Example Solution File](./readonly/Assignment4_example.pdf)"
   ]
  },
  {
   "cell_type": "markdown",
   "metadata": {},
   "source": [
    "#### Region\n",
    "Düsseldorf, North Rhine-Westphalia, Germany\n",
    "#### Domain\n",
    "economic activity or measures\n"
   ]
  },
  {
   "cell_type": "markdown",
   "metadata": {},
   "source": [
    "#### Question\n",
    "How has the percentage share of female part-time workers in Berlin changed during the period 2008 to 2018 in comparison to that of whole Germany within the same time period?"
   ]
  },
  {
   "cell_type": "code",
   "execution_count": 9,
   "metadata": {
    "collapsed": false
   },
   "outputs": [
    {
     "data": {
      "text/plain": [
       "Date\n",
       "2018-06-30    21.942519\n",
       "2017-06-30    21.777236\n",
       "2016-06-30    21.634520\n",
       "2015-06-30    21.383271\n",
       "2014-06-30    20.833744\n",
       "2013-06-30    20.425896\n",
       "2012-06-30    19.295982\n",
       "2011-06-30    18.304543\n",
       "2010-06-30    17.045904\n",
       "2009-06-30    16.689319\n",
       "2008-06-30    16.452740\n",
       "dtype: float64"
      ]
     },
     "execution_count": 9,
     "metadata": {},
     "output_type": "execute_result"
    }
   ],
   "source": [
    "import pandas as pd\n",
    "import matplotlib.pyplot as plt\n",
    "\n",
    "rows_to_discard=list(range(11))\n",
    "rows_to_discard.append(494)\n",
    "\n",
    "berlin = pd.read_csv('Assignment4_Data_Berlin.csv', header=0, parse_dates=['Date'], na_values='.')\n",
    "berlin.set_index('Date', inplace=True)\n",
    "berlin_total_employment = berlin[berlin.EmploymentType=='Total'].Total\n",
    "berlin_female_part_time = berlin[berlin.EmploymentType=='Part-time'].Total_female.\\\n",
    "    interpolate(method ='linear', limit_direction ='forward')\n",
    "\n",
    "berlin_percentage = 100*berlin_female_part_time/berlin_total_employment\n",
    "\n",
    "berlin_percentage"
   ]
  },
  {
   "cell_type": "code",
   "execution_count": 10,
   "metadata": {
    "collapsed": false
   },
   "outputs": [
    {
     "data": {
      "text/plain": [
       "Date\n",
       "2018-06-30    22.128846\n",
       "2017-06-30    21.963457\n",
       "2016-06-30    21.690033\n",
       "2015-06-30    21.340602\n",
       "2014-06-30    20.750110\n",
       "2013-06-30    20.391799\n",
       "2012-06-30    19.167105\n",
       "2011-06-30    18.102135\n",
       "2010-06-30    17.013383\n",
       "2009-06-30    16.490420\n",
       "2008-06-30    15.853453\n",
       "dtype: float64"
      ]
     },
     "execution_count": 10,
     "metadata": {},
     "output_type": "execute_result"
    }
   ],
   "source": [
    "germany = pd.read_csv('Assignment4_Data_Germany.csv', header=0, parse_dates=['Date'], na_values='.')\n",
    "germany.set_index('Date', inplace=True)\n",
    "\n",
    "germany_total_employment = germany[germany.EmploymentType=='Total'].Total\n",
    "germany_female_part_time = germany[germany.EmploymentType=='Part-time'].Total_female.\\\n",
    "    interpolate(method ='linear', limit_direction ='forward')\n",
    "\n",
    "germany_percentage = 100*germany_female_part_time/germany_total_employment\n",
    "\n",
    "germany_percentage"
   ]
  },
  {
   "cell_type": "code",
   "execution_count": 11,
   "metadata": {
    "collapsed": false
   },
   "outputs": [
    {
     "data": {
      "text/html": [
       "<div>\n",
       "<table border=\"1\" class=\"dataframe\">\n",
       "  <thead>\n",
       "    <tr style=\"text-align: right;\">\n",
       "      <th></th>\n",
       "      <th>Berlin</th>\n",
       "      <th>Germany</th>\n",
       "    </tr>\n",
       "    <tr>\n",
       "      <th>Date</th>\n",
       "      <th></th>\n",
       "      <th></th>\n",
       "    </tr>\n",
       "  </thead>\n",
       "  <tbody>\n",
       "    <tr>\n",
       "      <th>2018-06-30</th>\n",
       "      <td>21.942519</td>\n",
       "      <td>22.128846</td>\n",
       "    </tr>\n",
       "    <tr>\n",
       "      <th>2017-06-30</th>\n",
       "      <td>21.777236</td>\n",
       "      <td>21.963457</td>\n",
       "    </tr>\n",
       "    <tr>\n",
       "      <th>2016-06-30</th>\n",
       "      <td>21.634520</td>\n",
       "      <td>21.690033</td>\n",
       "    </tr>\n",
       "    <tr>\n",
       "      <th>2015-06-30</th>\n",
       "      <td>21.383271</td>\n",
       "      <td>21.340602</td>\n",
       "    </tr>\n",
       "    <tr>\n",
       "      <th>2014-06-30</th>\n",
       "      <td>20.833744</td>\n",
       "      <td>20.750110</td>\n",
       "    </tr>\n",
       "    <tr>\n",
       "      <th>2013-06-30</th>\n",
       "      <td>20.425896</td>\n",
       "      <td>20.391799</td>\n",
       "    </tr>\n",
       "    <tr>\n",
       "      <th>2012-06-30</th>\n",
       "      <td>19.295982</td>\n",
       "      <td>19.167105</td>\n",
       "    </tr>\n",
       "    <tr>\n",
       "      <th>2011-06-30</th>\n",
       "      <td>18.304543</td>\n",
       "      <td>18.102135</td>\n",
       "    </tr>\n",
       "    <tr>\n",
       "      <th>2010-06-30</th>\n",
       "      <td>17.045904</td>\n",
       "      <td>17.013383</td>\n",
       "    </tr>\n",
       "    <tr>\n",
       "      <th>2009-06-30</th>\n",
       "      <td>16.689319</td>\n",
       "      <td>16.490420</td>\n",
       "    </tr>\n",
       "    <tr>\n",
       "      <th>2008-06-30</th>\n",
       "      <td>16.452740</td>\n",
       "      <td>15.853453</td>\n",
       "    </tr>\n",
       "  </tbody>\n",
       "</table>\n",
       "</div>"
      ],
      "text/plain": [
       "               Berlin    Germany\n",
       "Date                            \n",
       "2018-06-30  21.942519  22.128846\n",
       "2017-06-30  21.777236  21.963457\n",
       "2016-06-30  21.634520  21.690033\n",
       "2015-06-30  21.383271  21.340602\n",
       "2014-06-30  20.833744  20.750110\n",
       "2013-06-30  20.425896  20.391799\n",
       "2012-06-30  19.295982  19.167105\n",
       "2011-06-30  18.304543  18.102135\n",
       "2010-06-30  17.045904  17.013383\n",
       "2009-06-30  16.689319  16.490420\n",
       "2008-06-30  16.452740  15.853453"
      ]
     },
     "execution_count": 11,
     "metadata": {},
     "output_type": "execute_result"
    }
   ],
   "source": [
    "# one dataframe\n",
    "plot_df = pd.concat([berlin_percentage, germany_percentage], axis=1)\n",
    "plot_df.columns = [\"Berlin\", \"Germany\"]\n",
    "\n",
    "plot_df"
   ]
  },
  {
   "cell_type": "code",
   "execution_count": 17,
   "metadata": {
    "collapsed": false
   },
   "outputs": [
    {
     "data": {
      "image/png": "[encoded data removed]",
      "text/plain": [
       "<matplotlib.figure.Figure at 0x7f52494a64a8>"
      ]
     },
     "metadata": {},
     "output_type": "display_data"
    }
   ],
   "source": [
    "plt.figure(figsize=(14,8))\n",
    "plt.style.use('bmh')\n",
    "\n",
    "plt.plot(plot_df.Berlin)\n",
    "plt.plot(plot_df.Germany)\n",
    "plt.title('Share of female part-time workers (%)')\n",
    "plt.ylabel('Percentage (%)')\n",
    "\n",
    "axes = plt.gca()\n",
    "axes.set_ylim([15, 25])\n",
    "\n",
    "plt.legend()\n",
    "plt.show()"
   ]
  },
  {
   "cell_type": "markdown",
   "metadata": {},
   "source": [
    "A part-time worker is defined in § 2 of \"Gesetz über Teilzeitarbeit und befristete Arbeitsverträgeas\" as a worker whose regular weekly working time is shorter than that of a comparable full-time worker. In the diagram, we look at the change specifically in share of female part-time workers as percentage of total number of workers during the period 2008 to 2018 in Berlin and whole of Germany. Both of the data was collected from the website of Federal Statistical Office of Germany and then translated. Note the data include only workers who must contribute to social securities and also the data for year 2011 and 2012 have been interploted due to missing values. In the diagram, we see that the percentage share of part-time female employees shows similar trend in both Berlin and the whole of Germany. The diagram above does not provide any information to make any causal interpretations. Thus as a next step, it would be also interesting to create some hypothesis and explore them."
   ]
  }
 ],
 "metadata": {
  "kernelspec": {
   "display_name": "Python 3",
   "language": "python",
   "name": "python3"
  },
  "language_info": {
   "codemirror_mode": {
    "name": "ipython",
    "version": 3
   },
   "file_extension": ".py",
   "mimetype": "text/x-python",
   "name": "python",
   "nbconvert_exporter": "python",
   "pygments_lexer": "ipython3",
   "version": "3.6.2"
  }
 },
 "nbformat": 4,
 "nbformat_minor": 1
}
