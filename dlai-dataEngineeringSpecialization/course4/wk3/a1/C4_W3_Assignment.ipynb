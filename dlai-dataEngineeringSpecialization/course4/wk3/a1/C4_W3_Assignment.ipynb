{
 "cells": [
  {
   "cell_type": "markdown",
   "metadata": {},
   "source": [
    "# Data Transformations with Apache Spark\n",
    "\n",
    "In this lab, you will perform transformations on the `classicmodels` database with Apache Spark. You will first practice the basics and then use `PySpark` to create a star schema model similar to the one done in the Week 1 assignment."
   ]
  },
  {
   "cell_type": "markdown",
   "metadata": {},
   "source": [
    "# Table of Contents\n",
    "\n",
    "- [ 1 - Introduction](#1)\n",
    "- [ 2 - Environment Setup](#2)\n",
    "- [ 3 - Apache Spark 101](#3)\n",
    "  - [ 3.1 - Spark Classes](#3.1)\n",
    "  - [ 3.2 - Spark DataFrame](#3.2)\n",
    "  - [ 3.3 - Spark SQL](#3.3)\n",
    "  - [ 3.4 - UDFs and Data Types](#3.4)\n",
    "- [ 4 - Data Modeling with Spark](#4)\n",
    "  - [ 4.1 - Read the Tables](#4.1)\n",
    "  - [ 4.2 - Star Schema](#4.2)\n",
    "  - [ 4.3 - Customers Dimension](#4.3)\n",
    "  - [ 4.4 - Products Dimension](#4.4)\n",
    "  - [ 4.5 - Offices Dimension](#4.5)\n",
    "  - [ 4.6 - Employees Dimension](#4.6)\n",
    "  - [ 4.7 - Date Dimension](#4.7)\n",
    "  - [ 4.8 - Fact Table](#4.8)\n",
    "- [ 5 - Upload Files for Grading](#5)"
   ]
  },
  {
   "cell_type": "markdown",
   "metadata": {},
   "source": [
    "<a name='1'></a>\n",
    "## 1 - Introduction\n",
    "\n",
    "Apache Spark is an open-source unified analytics engine for large-scale data processing, it allows you to perform Data Engineering, Data Science, and Machine Learning jobs on single-node machines or clusters. In courses 1 and 3, you have seen some examples with AWS Glue jobs, a serverless service that allows you to run Spark jobs without setting up cloud resources. In this assignment, you are provided with a Spark cluster deployed using Amazon EMR. This service comes with a Studio and Workspace functions allowing you to run Spark jobs from this notebook directly.\n",
    "\n",
    "You will recreate the Star Schema data model from the Week 1 assignment using PySpark, the Python API for Spark."
   ]
  },
  {
   "cell_type": "markdown",
   "metadata": {},
   "source": [
    "<a name='2'></a>\n",
    "## 2 - Environment Setup\n",
    "\n",
    "The `classicmodels` database is stored in an RDS instance running a Postgres engine, you will need to configure the connection to read the source data and then store the generated data models. Thankfully, the Studio functionality of Amazon EMR provides you with the necessary classes ready to use, but you will need to add a configuration to allow the environment to connect to a Postgres database. "
   ]
  },
  {
   "cell_type": "markdown",
   "metadata": {},
   "source": [
    "2.1. Run the following cell, this will point the Spark cluster to a JAR file with the necessary code to connect:"
   ]
  },
  {
   "cell_type": "code",
   "execution_count": 1,
   "metadata": {
    "execution": {
     "iopub.execute_input": "2024-12-20T05:48:21.389873Z",
     "iopub.status.busy": "2024-12-20T05:48:21.387993Z",
     "iopub.status.idle": "2024-12-20T05:48:21.418810Z",
     "shell.execute_reply": "2024-12-20T05:48:21.417909Z",
     "shell.execute_reply.started": "2024-12-20T05:48:21.389814Z"
    }
   },
   "outputs": [
    {
     "data": {
      "text/html": [
       "Current session configs: <tt>{'conf': {'spark.pyspark.python': 'python', 'spark.pyspark.virtualenv.enabled': 'true', 'spark.pyspark.virtualenv.type': 'native', 'spark.pyspark.virtualenv.bin.path': '/usr/bin/virtualenv', 'spark.jars.packages': 'org.postgresql:postgresql:42.2.5'}, 'proxyUser': 'assumed-role_voclabs_user603888_L4', 'kind': 'pyspark'}</tt><br>"
      ],
      "text/plain": [
       "<IPython.core.display.HTML object>"
      ]
     },
     "metadata": {},
     "output_type": "display_data"
    },
    {
     "data": {
      "text/html": [
       "No active sessions."
      ],
      "text/plain": [
       "<IPython.core.display.HTML object>"
      ]
     },
     "metadata": {},
     "output_type": "display_data"
    }
   ],
   "source": [
    "%%configure -f\n",
    "{\n",
    "    \"conf\": {\n",
    "        \"spark.pyspark.python\": \"python\",\n",
    "        \"spark.pyspark.virtualenv.enabled\": \"true\",\n",
    "        \"spark.pyspark.virtualenv.type\":\"native\",\n",
    "        \"spark.pyspark.virtualenv.bin.path\":\"/usr/bin/virtualenv\",\n",
    "        \"spark.jars.packages\": \"org.postgresql:postgresql:42.2.5\"\n",
    "    }\n",
    "}"
   ]
  },
  {
   "cell_type": "markdown",
   "metadata": {},
   "source": [
    "2.2. Go to **CloudFormation** in the AWS console. You will see the stack with an alphanumeric ID. Click on it and search for the **Outputs** tab. You will see the key `PostgresEndpoint`, copy the corresponding **Value** (highlight and copy it as text, not as a link). Replace the placeholder `<RDS-ENDPOINT>` in the following cell and run it."
   ]
  },
  {
   "cell_type": "code",
   "execution_count": 5,
   "metadata": {
    "execution": {
     "iopub.execute_input": "2024-12-20T05:57:01.915461Z",
     "iopub.status.busy": "2024-12-20T05:57:01.915205Z",
     "iopub.status.idle": "2024-12-20T05:57:01.974405Z",
     "shell.execute_reply": "2024-12-20T05:57:01.973786Z",
     "shell.execute_reply.started": "2024-12-20T05:57:01.915436Z"
    },
    "tags": []
   },
   "outputs": [
    {
     "data": {
      "application/vnd.jupyter.widget-view+json": {
       "model_id": "31aea0c9e66e4b92a5ffbb769d91067b",
       "version_major": 2,
       "version_minor": 0
      },
      "text/plain": [
       "VBox()"
      ]
     },
     "metadata": {},
     "output_type": "display_data"
    },
    {
     "data": {
      "application/vnd.jupyter.widget-view+json": {
       "model_id": "",
       "version_major": 2,
       "version_minor": 0
      },
      "text/plain": [
       "FloatProgress(value=0.0, bar_style='info', description='Progress:', layout=Layout(height='25px', width='50%'),…"
      ]
     },
     "metadata": {},
     "output_type": "display_data"
    }
   ],
   "source": [
    "RDS_ENDPOINT = \"de-c4w3a1-rds.c5i4yyaasycj.us-east-1.rds.amazonaws.com\"\n",
    "jdbc_url = f\"jdbc:postgresql://{RDS_ENDPOINT}:5432/postgres\"  # For PostgreSQL\n",
    "\n",
    "jdbc_properties = {\n",
    "    \"user\": \"postgresuser\",\n",
    "    \"password\": \"adminpwrd\",    \n",
    "    \"driver\": \"org.postgresql.Driver\"  # For PostgreSQL\n",
    "}"
   ]
  },
  {
   "cell_type": "markdown",
   "metadata": {},
   "source": [
    "After running the previous cell you should wait while the Spark application starts. After it finishes, you should see a message like this:\n",
    "```bash\n",
    "SparkSession available as 'spark'\n",
    "```"
   ]
  },
  {
   "cell_type": "markdown",
   "metadata": {},
   "source": [
    "2.3. Now use the `spark` object that is available to read from the database using Java Database Connectivity (JDBC), you will provide the JDBC url and the connection properties, and point to a table with their corresponding schema. In this case, you will call `information_schema.tables` to get the available tables; then you will select the schema and names."
   ]
  },
  {
   "cell_type": "code",
   "execution_count": 6,
   "metadata": {
    "execution": {
     "iopub.execute_input": "2024-12-20T05:57:04.823916Z",
     "iopub.status.busy": "2024-12-20T05:57:04.823683Z",
     "iopub.status.idle": "2024-12-20T05:57:12.111590Z",
     "shell.execute_reply": "2024-12-20T05:57:12.110811Z",
     "shell.execute_reply.started": "2024-12-20T05:57:04.823891Z"
    },
    "tags": []
   },
   "outputs": [
    {
     "data": {
      "application/vnd.jupyter.widget-view+json": {
       "model_id": "",
       "version_major": 2,
       "version_minor": 0
      },
      "text/plain": [
       "FloatProgress(value=0.0, bar_style='info', description='Progress:', layout=Layout(height='25px', width='50%'),…"
      ]
     },
     "metadata": {},
     "output_type": "display_data"
    },
    {
     "name": "stdout",
     "output_type": "stream",
     "text": [
      "+-------------+--------------------+\n",
      "| table_schema|          table_name|\n",
      "+-------------+--------------------+\n",
      "|classicmodels|           employees|\n",
      "|classicmodels|             offices|\n",
      "|classicmodels|           customers|\n",
      "|classicmodels|        orderdetails|\n",
      "|classicmodels|        productlines|\n",
      "|classicmodels|            products|\n",
      "|classicmodels|              orders|\n",
      "|   pg_catalog|             pg_type|\n",
      "|classicmodels|            payments|\n",
      "|   pg_catalog|    pg_foreign_table|\n",
      "|   pg_catalog|            pg_roles|\n",
      "|   pg_catalog|         pg_settings|\n",
      "|   pg_catalog|pg_shmem_allocations|\n",
      "|   pg_catalog|pg_backend_memory...|\n",
      "|   pg_catalog|    pg_stat_activity|\n",
      "|   pg_catalog|     pg_subscription|\n",
      "|   pg_catalog|        pg_attribute|\n",
      "|   pg_catalog|             pg_proc|\n",
      "|   pg_catalog|            pg_class|\n",
      "|   pg_catalog|          pg_attrdef|\n",
      "+-------------+--------------------+\n",
      "only showing top 20 rows"
     ]
    }
   ],
   "source": [
    "%%pyspark\n",
    "information_tables_df = spark.read.jdbc(jdbc_url, \"information_schema.tables\", properties=jdbc_properties)\n",
    "information_tables_df.select([\"table_schema\", \"table_name\"]).show()"
   ]
  },
  {
   "cell_type": "markdown",
   "metadata": {},
   "source": [
    "2.4. Now that you listed the available schemas, call the `information_schema.schemata` table. Select the `schema_name` and `schema_owner`, and then show the resulting DataFrame."
   ]
  },
  {
   "cell_type": "code",
   "execution_count": 7,
   "metadata": {
    "execution": {
     "iopub.execute_input": "2024-12-20T05:57:12.112896Z",
     "iopub.status.busy": "2024-12-20T05:57:12.112722Z",
     "iopub.status.idle": "2024-12-20T05:57:12.876418Z",
     "shell.execute_reply": "2024-12-20T05:57:12.875693Z",
     "shell.execute_reply.started": "2024-12-20T05:57:12.112873Z"
    }
   },
   "outputs": [
    {
     "data": {
      "application/vnd.jupyter.widget-view+json": {
       "model_id": "e806dbf42ba5495c81d8a46cf17b1456",
       "version_major": 2,
       "version_minor": 0
      },
      "text/plain": [
       "VBox()"
      ]
     },
     "metadata": {},
     "output_type": "display_data"
    },
    {
     "data": {
      "application/vnd.jupyter.widget-view+json": {
       "model_id": "",
       "version_major": 2,
       "version_minor": 0
      },
      "text/plain": [
       "FloatProgress(value=0.0, bar_style='info', description='Progress:', layout=Layout(height='25px', width='50%'),…"
      ]
     },
     "metadata": {},
     "output_type": "display_data"
    },
    {
     "name": "stdout",
     "output_type": "stream",
     "text": [
      "+--------------------+-----------------+\n",
      "|         schema_name|     schema_owner|\n",
      "+--------------------+-----------------+\n",
      "|              public|pg_database_owner|\n",
      "|       classicmodels|     postgresuser|\n",
      "|         test_schema|     postgresuser|\n",
      "|classicmodels_sta...|     postgresuser|\n",
      "|  information_schema|         rdsadmin|\n",
      "|          pg_catalog|         rdsadmin|\n",
      "+--------------------+-----------------+"
     ]
    }
   ],
   "source": [
    "information_schemas_df = spark.read.jdbc(jdbc_url, \"information_schema.schemata\", properties=jdbc_properties)\n",
    "information_schemas_df.select([\"schema_name\", \"schema_owner\"]).show()"
   ]
  },
  {
   "cell_type": "markdown",
   "metadata": {},
   "source": [
    "<a name='3'></a>\n",
    "## 3 - Apache Spark 101\n",
    "\n",
    "As mentioned before, Apache Spark is a workload engine that can be used with high-level APIs in programming languages such as Java, Scala and Python. The core abstraction of Spark is a Resilient Distributed Dataset (RDD), which is a collection of elements that can be partitioned across the nodes of the cluster; this enables running intensive workloads on the data in parallel. Spark also has some high-level toolsets like Spark SQL for structured data processing using SQL, pandas API for Spark to run pandas workloads, and MLlib for machine learning workloads. \n",
    "\n",
    "You will focus on PySpark, the Python API. However, you will skip the details on how to connect to a Spark cluster and most of the initial setup required as the necessary configuration to run this notebook has already been provided. \n",
    "\n",
    "In this section, you will get a brief overview of the required classes to access Spark with PySpark and run your workloads."
   ]
  },
  {
   "cell_type": "markdown",
   "metadata": {},
   "source": [
    "<a name='3.1'></a>\n",
    "### 3.1 - Spark Classes\n",
    "\n",
    "To start a Spark program you must create a `SparkConf` object, that contains information about your application, and a `SparkContext` object, which tells Spark how to access a cluster.\n",
    "\n",
    "```python\n",
    "from pyspark import SparkContext, SparkConf\n",
    "conf = SparkConf().setAppName(appName).setMaster(master)\n",
    "sc = SparkContext(conf=conf)\n",
    "```\n",
    "\n",
    "The `appName` parameter is a string with the name of your application, it shows on the Spark cluster UI. `master` is the connection string to a Spark cluster or a `\"local\"` string to run in local mode."
   ]
  },
  {
   "cell_type": "markdown",
   "metadata": {},
   "source": [
    "<a name='3.2'></a>\n",
    "### 3.2 - Spark DataFrame\n",
    "\n",
    "In this lab, you will be using the PySpark DataFrame API, which enables the use of Spark DataFrames, an abstraction on top of RDDs. For PySpark applications running this API, you can start by initializing a `SparkSession` object which is the entry point of PySpark.\n",
    "\n",
    "```python\n",
    "from pyspark.sql import SparkSession\n",
    "\n",
    "spark = SparkSession.builder.getOrCreate()\n",
    "```\n",
    "\n",
    "In this notebook, you can access a preconfigured `SparkSession` object using the `spark` variable, which you have used before to read the available tables. Now, you will start looking into the Spark DataFrame. Let's read the `orders` table from the `classicmodels` schema."
   ]
  },
  {
   "cell_type": "code",
   "execution_count": 8,
   "metadata": {
    "execution": {
     "iopub.execute_input": "2024-12-20T06:00:55.776957Z",
     "iopub.status.busy": "2024-12-20T06:00:55.776627Z",
     "iopub.status.idle": "2024-12-20T06:00:56.017270Z",
     "shell.execute_reply": "2024-12-20T06:00:56.016329Z",
     "shell.execute_reply.started": "2024-12-20T06:00:55.776919Z"
    }
   },
   "outputs": [
    {
     "data": {
      "application/vnd.jupyter.widget-view+json": {
       "model_id": "",
       "version_major": 2,
       "version_minor": 0
      },
      "text/plain": [
       "FloatProgress(value=0.0, bar_style='info', description='Progress:', layout=Layout(height='25px', width='50%'),…"
      ]
     },
     "metadata": {},
     "output_type": "display_data"
    }
   ],
   "source": [
    "%%pyspark\n",
    "\n",
    "# Read data from RDS into a Spark DataFrame\n",
    "orders_df = spark.read.jdbc(url=jdbc_url, table=\"classicmodels.orders\", properties=jdbc_properties)"
   ]
  },
  {
   "cell_type": "markdown",
   "metadata": {},
   "source": [
    "Let's explore the DataFrame operations available, here is a list of some of the most important ones:\n",
    "\n",
    "* `df.printSchema()`: Prints the schema of the DataFrame.\n",
    "* `df.select(\"col\")`: Select the column of the name `col` from the DataFrame.\n",
    "* `df.show()`: Prints the content of the DataFrame.\n",
    "* `df.filter(df[\"col\"] > value)`: Filters the DataFrame based on a logical condition.\n",
    "* `df.groupBy(\"col\").agg()`: Perform an aggregation based on a column of name `col`. The aggregation can be `count`, `max`, `min`, `avg`.\n",
    "* `df.withColumn(\"new_col\",col_values)`: Adds a new column to the DataFrame with the `new_col` name and `col_values` as values for the column."
   ]
  },
  {
   "cell_type": "markdown",
   "metadata": {},
   "source": [
    "Let's start by printing the content of the `orders` DataFrame."
   ]
  },
  {
   "cell_type": "code",
   "execution_count": 9,
   "metadata": {
    "execution": {
     "iopub.execute_input": "2024-12-20T06:01:01.819170Z",
     "iopub.status.busy": "2024-12-20T06:01:01.818929Z",
     "iopub.status.idle": "2024-12-20T06:01:09.137559Z",
     "shell.execute_reply": "2024-12-20T06:01:09.136836Z",
     "shell.execute_reply.started": "2024-12-20T06:01:01.819137Z"
    }
   },
   "outputs": [
    {
     "data": {
      "application/vnd.jupyter.widget-view+json": {
       "model_id": "6a67895cd7d34876968914224fb20b60",
       "version_major": 2,
       "version_minor": 0
      },
      "text/plain": [
       "VBox()"
      ]
     },
     "metadata": {},
     "output_type": "display_data"
    },
    {
     "data": {
      "application/vnd.jupyter.widget-view+json": {
       "model_id": "",
       "version_major": 2,
       "version_minor": 0
      },
      "text/plain": [
       "FloatProgress(value=0.0, bar_style='info', description='Progress:', layout=Layout(height='25px', width='50%'),…"
      ]
     },
     "metadata": {},
     "output_type": "display_data"
    },
    {
     "name": "stdout",
     "output_type": "stream",
     "text": [
      "+-----------+-------------------+-------------------+-------------------+-------+--------------------+--------------+\n",
      "|ordernumber|          orderdate|       requireddate|        shippeddate| status|            comments|customernumber|\n",
      "+-----------+-------------------+-------------------+-------------------+-------+--------------------+--------------+\n",
      "|      10100|2003-01-06 00:00:00|2003-01-13 00:00:00|2003-01-10 00:00:00|Shipped|                NULL|           363|\n",
      "|      10101|2003-01-09 00:00:00|2003-01-18 00:00:00|2003-01-11 00:00:00|Shipped|Check on availabi...|           128|\n",
      "|      10102|2003-01-10 00:00:00|2003-01-18 00:00:00|2003-01-14 00:00:00|Shipped|                NULL|           181|\n",
      "|      10103|2003-01-29 00:00:00|2003-02-07 00:00:00|2003-02-02 00:00:00|Shipped|                NULL|           121|\n",
      "|      10104|2003-01-31 00:00:00|2003-02-09 00:00:00|2003-02-01 00:00:00|Shipped|                NULL|           141|\n",
      "|      10105|2003-02-11 00:00:00|2003-02-21 00:00:00|2003-02-12 00:00:00|Shipped|                NULL|           145|\n",
      "|      10106|2003-02-17 00:00:00|2003-02-24 00:00:00|2003-02-21 00:00:00|Shipped|                NULL|           278|\n",
      "|      10107|2003-02-24 00:00:00|2003-03-03 00:00:00|2003-02-26 00:00:00|Shipped|Difficult to nego...|           131|\n",
      "|      10108|2003-03-03 00:00:00|2003-03-12 00:00:00|2003-03-08 00:00:00|Shipped|                NULL|           385|\n",
      "|      10109|2003-03-10 00:00:00|2003-03-19 00:00:00|2003-03-11 00:00:00|Shipped|Customer requeste...|           486|\n",
      "|      10110|2003-03-18 00:00:00|2003-03-24 00:00:00|2003-03-20 00:00:00|Shipped|                NULL|           187|\n",
      "|      10111|2003-03-25 00:00:00|2003-03-31 00:00:00|2003-03-30 00:00:00|Shipped|                NULL|           129|\n",
      "|      10112|2003-03-24 00:00:00|2003-04-03 00:00:00|2003-03-29 00:00:00|Shipped|Customer requeste...|           144|\n",
      "|      10113|2003-03-26 00:00:00|2003-04-02 00:00:00|2003-03-27 00:00:00|Shipped|                NULL|           124|\n",
      "|      10114|2003-04-01 00:00:00|2003-04-07 00:00:00|2003-04-02 00:00:00|Shipped|                NULL|           172|\n",
      "|      10115|2003-04-04 00:00:00|2003-04-12 00:00:00|2003-04-07 00:00:00|Shipped|                NULL|           424|\n",
      "|      10116|2003-04-11 00:00:00|2003-04-19 00:00:00|2003-04-13 00:00:00|Shipped|                NULL|           381|\n",
      "|      10117|2003-04-16 00:00:00|2003-04-24 00:00:00|2003-04-17 00:00:00|Shipped|                NULL|           148|\n",
      "|      10118|2003-04-21 00:00:00|2003-04-29 00:00:00|2003-04-26 00:00:00|Shipped|Customer has work...|           216|\n",
      "|      10119|2003-04-28 00:00:00|2003-05-05 00:00:00|2003-05-02 00:00:00|Shipped|                NULL|           382|\n",
      "+-----------+-------------------+-------------------+-------------------+-------+--------------------+--------------+\n",
      "only showing top 20 rows"
     ]
    }
   ],
   "source": [
    "orders_df.show()"
   ]
  },
  {
   "cell_type": "markdown",
   "metadata": {},
   "source": [
    "You can create a Spark DataFrame from collections such as a list of tuples, a list of dictionaries, an RDD, and a `pandas` DataFrame. This is an example:"
   ]
  },
  {
   "cell_type": "code",
   "execution_count": 10,
   "metadata": {
    "execution": {
     "iopub.execute_input": "2024-12-20T06:01:09.139721Z",
     "iopub.status.busy": "2024-12-20T06:01:09.139251Z",
     "iopub.status.idle": "2024-12-20T06:01:11.425678Z",
     "shell.execute_reply": "2024-12-20T06:01:11.424943Z",
     "shell.execute_reply.started": "2024-12-20T06:01:09.139681Z"
    }
   },
   "outputs": [
    {
     "data": {
      "application/vnd.jupyter.widget-view+json": {
       "model_id": "cc43eeadf0ac4054aee203ac45192255",
       "version_major": 2,
       "version_minor": 0
      },
      "text/plain": [
       "VBox()"
      ]
     },
     "metadata": {},
     "output_type": "display_data"
    },
    {
     "data": {
      "application/vnd.jupyter.widget-view+json": {
       "model_id": "",
       "version_major": 2,
       "version_minor": 0
      },
      "text/plain": [
       "FloatProgress(value=0.0, bar_style='info', description='Progress:', layout=Layout(height='25px', width='50%'),…"
      ]
     },
     "metadata": {},
     "output_type": "display_data"
    },
    {
     "name": "stdout",
     "output_type": "stream",
     "text": [
      "+-----+---+\n",
      "|   _1| _2|\n",
      "+-----+---+\n",
      "|Alice|  1|\n",
      "|  Bob|  2|\n",
      "|Carla|  3|\n",
      "+-----+---+"
     ]
    }
   ],
   "source": [
    "list_of_tuples = [(\"Alice\", 1),(\"Bob\", 2),(\"Carla\", 3)]\n",
    "spark.createDataFrame(list_of_tuples).show()"
   ]
  },
  {
   "cell_type": "markdown",
   "metadata": {},
   "source": [
    "You can define the schema as a second parameter, either by passing a list of column names or a `StructType`, the later one uses an array of `StructField` for each column with the corresponding name, type and if the column accepts nulls."
   ]
  },
  {
   "cell_type": "code",
   "execution_count": 11,
   "metadata": {
    "execution": {
     "iopub.execute_input": "2024-12-20T06:01:19.575073Z",
     "iopub.status.busy": "2024-12-20T06:01:19.574796Z",
     "iopub.status.idle": "2024-12-20T06:01:20.348960Z",
     "shell.execute_reply": "2024-12-20T06:01:20.348327Z",
     "shell.execute_reply.started": "2024-12-20T06:01:19.575045Z"
    }
   },
   "outputs": [
    {
     "data": {
      "application/vnd.jupyter.widget-view+json": {
       "model_id": "1ecefcdd74a74e338fca45f7eaf4b045",
       "version_major": 2,
       "version_minor": 0
      },
      "text/plain": [
       "VBox()"
      ]
     },
     "metadata": {},
     "output_type": "display_data"
    },
    {
     "data": {
      "application/vnd.jupyter.widget-view+json": {
       "model_id": "",
       "version_major": 2,
       "version_minor": 0
      },
      "text/plain": [
       "FloatProgress(value=0.0, bar_style='info', description='Progress:', layout=Layout(height='25px', width='50%'),…"
      ]
     },
     "metadata": {},
     "output_type": "display_data"
    },
    {
     "name": "stdout",
     "output_type": "stream",
     "text": [
      "+-----+---+\n",
      "| name|age|\n",
      "+-----+---+\n",
      "|Alice|  1|\n",
      "|  Bob|  2|\n",
      "|Carla|  3|\n",
      "+-----+---+"
     ]
    }
   ],
   "source": [
    "from pyspark.sql.types import *\n",
    "schema = StructType([\n",
    "   StructField(\"name\", StringType(), True),\n",
    "   StructField(\"age\", IntegerType(), True)])\n",
    "test_df = spark.createDataFrame(list_of_tuples, schema)\n",
    "test_df.show()"
   ]
  },
  {
   "cell_type": "markdown",
   "metadata": {},
   "source": [
    "Finally, you can also write Spark DataFrames in the same formats that you can read. During this lab, you will save DataFrames to the same database. Here is an example of how to store a DataFrame to Postgres to a pre-created `test_schema`:"
   ]
  },
  {
   "cell_type": "code",
   "execution_count": 12,
   "metadata": {
    "execution": {
     "iopub.execute_input": "2024-12-20T06:01:51.159212Z",
     "iopub.status.busy": "2024-12-20T06:01:51.158963Z",
     "iopub.status.idle": "2024-12-20T06:01:53.436327Z",
     "shell.execute_reply": "2024-12-20T06:01:53.435653Z",
     "shell.execute_reply.started": "2024-12-20T06:01:51.159184Z"
    }
   },
   "outputs": [
    {
     "data": {
      "application/vnd.jupyter.widget-view+json": {
       "model_id": "4ff5a42a4ee449f897f87c2ccd4ada15",
       "version_major": 2,
       "version_minor": 0
      },
      "text/plain": [
       "VBox()"
      ]
     },
     "metadata": {},
     "output_type": "display_data"
    },
    {
     "data": {
      "application/vnd.jupyter.widget-view+json": {
       "model_id": "",
       "version_major": 2,
       "version_minor": 0
      },
      "text/plain": [
       "FloatProgress(value=0.0, bar_style='info', description='Progress:', layout=Layout(height='25px', width='50%'),…"
      ]
     },
     "metadata": {},
     "output_type": "display_data"
    }
   ],
   "source": [
    "test_df.write.jdbc(url=jdbc_url, table=\"test_schema.test_table\", mode=\"overwrite\", properties=jdbc_properties)"
   ]
  },
  {
   "cell_type": "markdown",
   "metadata": {},
   "source": [
    "<a name='3.3'></a>\n",
    "### 3.3 - Spark SQL\n",
    "\n",
    "As mentioned before, one of the high-level tools offered by Spark is Spark SQL, this will be one of the main tools you will use during the lab. You can perform SQL queries using the available DataFrames, first, you have to register each DataFrame as a temporary view and then call the `sql` function from the `SparkSession` object."
   ]
  },
  {
   "cell_type": "code",
   "execution_count": 13,
   "metadata": {
    "execution": {
     "iopub.execute_input": "2024-12-20T06:02:17.969028Z",
     "iopub.status.busy": "2024-12-20T06:02:17.968783Z",
     "iopub.status.idle": "2024-12-20T06:02:18.731087Z",
     "shell.execute_reply": "2024-12-20T06:02:18.730331Z",
     "shell.execute_reply.started": "2024-12-20T06:02:17.969002Z"
    }
   },
   "outputs": [
    {
     "data": {
      "application/vnd.jupyter.widget-view+json": {
       "model_id": "f9c4dc75eff3457c918f7d61e612ee68",
       "version_major": 2,
       "version_minor": 0
      },
      "text/plain": [
       "VBox()"
      ]
     },
     "metadata": {},
     "output_type": "display_data"
    },
    {
     "data": {
      "application/vnd.jupyter.widget-view+json": {
       "model_id": "",
       "version_major": 2,
       "version_minor": 0
      },
      "text/plain": [
       "FloatProgress(value=0.0, bar_style='info', description='Progress:', layout=Layout(height='25px', width='50%'),…"
      ]
     },
     "metadata": {},
     "output_type": "display_data"
    },
    {
     "name": "stdout",
     "output_type": "stream",
     "text": [
      "+-----------+-------------------+-------------------+-------------------+-------+--------------------+--------------+\n",
      "|ordernumber|          orderdate|       requireddate|        shippeddate| status|            comments|customernumber|\n",
      "+-----------+-------------------+-------------------+-------------------+-------+--------------------+--------------+\n",
      "|      10100|2003-01-06 00:00:00|2003-01-13 00:00:00|2003-01-10 00:00:00|Shipped|                NULL|           363|\n",
      "|      10101|2003-01-09 00:00:00|2003-01-18 00:00:00|2003-01-11 00:00:00|Shipped|Check on availabi...|           128|\n",
      "|      10102|2003-01-10 00:00:00|2003-01-18 00:00:00|2003-01-14 00:00:00|Shipped|                NULL|           181|\n",
      "|      10103|2003-01-29 00:00:00|2003-02-07 00:00:00|2003-02-02 00:00:00|Shipped|                NULL|           121|\n",
      "|      10104|2003-01-31 00:00:00|2003-02-09 00:00:00|2003-02-01 00:00:00|Shipped|                NULL|           141|\n",
      "|      10105|2003-02-11 00:00:00|2003-02-21 00:00:00|2003-02-12 00:00:00|Shipped|                NULL|           145|\n",
      "|      10106|2003-02-17 00:00:00|2003-02-24 00:00:00|2003-02-21 00:00:00|Shipped|                NULL|           278|\n",
      "|      10107|2003-02-24 00:00:00|2003-03-03 00:00:00|2003-02-26 00:00:00|Shipped|Difficult to nego...|           131|\n",
      "|      10108|2003-03-03 00:00:00|2003-03-12 00:00:00|2003-03-08 00:00:00|Shipped|                NULL|           385|\n",
      "|      10109|2003-03-10 00:00:00|2003-03-19 00:00:00|2003-03-11 00:00:00|Shipped|Customer requeste...|           486|\n",
      "|      10110|2003-03-18 00:00:00|2003-03-24 00:00:00|2003-03-20 00:00:00|Shipped|                NULL|           187|\n",
      "|      10111|2003-03-25 00:00:00|2003-03-31 00:00:00|2003-03-30 00:00:00|Shipped|                NULL|           129|\n",
      "|      10112|2003-03-24 00:00:00|2003-04-03 00:00:00|2003-03-29 00:00:00|Shipped|Customer requeste...|           144|\n",
      "|      10113|2003-03-26 00:00:00|2003-04-02 00:00:00|2003-03-27 00:00:00|Shipped|                NULL|           124|\n",
      "|      10114|2003-04-01 00:00:00|2003-04-07 00:00:00|2003-04-02 00:00:00|Shipped|                NULL|           172|\n",
      "|      10115|2003-04-04 00:00:00|2003-04-12 00:00:00|2003-04-07 00:00:00|Shipped|                NULL|           424|\n",
      "|      10116|2003-04-11 00:00:00|2003-04-19 00:00:00|2003-04-13 00:00:00|Shipped|                NULL|           381|\n",
      "|      10117|2003-04-16 00:00:00|2003-04-24 00:00:00|2003-04-17 00:00:00|Shipped|                NULL|           148|\n",
      "|      10118|2003-04-21 00:00:00|2003-04-29 00:00:00|2003-04-26 00:00:00|Shipped|Customer has work...|           216|\n",
      "|      10119|2003-04-28 00:00:00|2003-05-05 00:00:00|2003-05-02 00:00:00|Shipped|                NULL|           382|\n",
      "+-----------+-------------------+-------------------+-------------------+-------+--------------------+--------------+\n",
      "only showing top 20 rows"
     ]
    }
   ],
   "source": [
    "orders_df.createOrReplaceTempView(\"orders\")\n",
    "\n",
    "sqlDF = spark.sql(\"SELECT * FROM orders\")\n",
    "sqlDF.show()"
   ]
  },
  {
   "cell_type": "markdown",
   "metadata": {},
   "source": [
    "<a name='3.4'></a>\n",
    "### 3.4 - UDFs and Data Types\n",
    "\n",
    "Another advantage of Spark SQL is the definition of Python functions as SQL User Defined Functions (UDF). UDFs help us store custom logic and use it with multiple DataFrames. For example, if you want a text column to be title case (the first letter of each word is capitalized), you can define a function for it and then store it as a UDF.\n",
    "\n",
    "```python\n",
    "from pyspark.sql.types import StringType\n",
    "\n",
    "def titleCase(text: str):\n",
    "    output = ' '.join(word[0].upper() + word[1:] for word in text.split())\n",
    "    return output\n",
    "\n",
    "spark.udf.register(\"titleUDF\", titleCase, StringType())\n",
    "\n",
    "spark.sql(\"select book_id, titleUDF(book_name) as title from books\")\n",
    "```"
   ]
  },
  {
   "cell_type": "markdown",
   "metadata": {},
   "source": [
    "In the previous example, you registered the UDF using the `spark.udf.register` function, which takes the name of the function to use in SQL, the Python function and the return type. You use Spark SQL Data Types in this case, you will work more with them later, as they can be used to describe the schema of a Spark DataFrame. It's also worth mentioning that you can also use UDF directly on DataFrames; in this case, we use a `lambda` function.\n",
    "\n",
    "```python\n",
    "from pyspark.sql.functions import col, udf\n",
    "\n",
    "titleUDF = udf(lambda z: titleCase(z),StringType())\n",
    "\n",
    "books_df.select(col(\"book_id\"), titleUDF(col(\"book_name\")).alias(\"title\"))\n",
    "```"
   ]
  },
  {
   "cell_type": "markdown",
   "metadata": {},
   "source": [
    "You will create a UDF using this method to generate surrogate keys. You will use the `hashlib` library to generate a hash based on a list of column values. "
   ]
  },
  {
   "cell_type": "code",
   "execution_count": 14,
   "metadata": {
    "execution": {
     "iopub.execute_input": "2024-12-20T06:02:35.251402Z",
     "iopub.status.busy": "2024-12-20T06:02:35.251174Z",
     "iopub.status.idle": "2024-12-20T06:02:35.314308Z",
     "shell.execute_reply": "2024-12-20T06:02:35.313487Z",
     "shell.execute_reply.started": "2024-12-20T06:02:35.251377Z"
    }
   },
   "outputs": [
    {
     "data": {
      "application/vnd.jupyter.widget-view+json": {
       "model_id": "2b1c3cd0086b4ef4841a0e98f8d90b1f",
       "version_major": 2,
       "version_minor": 0
      },
      "text/plain": [
       "VBox()"
      ]
     },
     "metadata": {},
     "output_type": "display_data"
    },
    {
     "data": {
      "application/vnd.jupyter.widget-view+json": {
       "model_id": "",
       "version_major": 2,
       "version_minor": 0
      },
      "text/plain": [
       "FloatProgress(value=0.0, bar_style='info', description='Progress:', layout=Layout(height='25px', width='50%'),…"
      ]
     },
     "metadata": {},
     "output_type": "display_data"
    }
   ],
   "source": [
    "import hashlib\n",
    "from typing import List\n",
    "from pyspark.sql.types import StringType\n",
    "from pyspark.sql.functions import col, udf, array\n",
    "\n",
    "def surrogateKey(text_values: List[str]):\n",
    "    sha256 = hashlib.sha256()\n",
    "    data = ''.join(text_values)\n",
    "    sha256.update(data.encode())\n",
    "    return sha256.hexdigest()"
   ]
  },
  {
   "cell_type": "markdown",
   "metadata": {},
   "source": [
    "Let's test the function, create an array of strings, and call the function with it. "
   ]
  },
  {
   "cell_type": "code",
   "execution_count": 15,
   "metadata": {
    "execution": {
     "iopub.execute_input": "2024-12-20T06:02:39.612813Z",
     "iopub.status.busy": "2024-12-20T06:02:39.612582Z",
     "iopub.status.idle": "2024-12-20T06:02:39.675232Z",
     "shell.execute_reply": "2024-12-20T06:02:39.674385Z",
     "shell.execute_reply.started": "2024-12-20T06:02:39.612790Z"
    }
   },
   "outputs": [
    {
     "data": {
      "application/vnd.jupyter.widget-view+json": {
       "model_id": "25be579a369842fe817893621082e08e",
       "version_major": 2,
       "version_minor": 0
      },
      "text/plain": [
       "VBox()"
      ]
     },
     "metadata": {},
     "output_type": "display_data"
    },
    {
     "data": {
      "application/vnd.jupyter.widget-view+json": {
       "model_id": "",
       "version_major": 2,
       "version_minor": 0
      },
      "text/plain": [
       "FloatProgress(value=0.0, bar_style='info', description='Progress:', layout=Layout(height='25px', width='50%'),…"
      ]
     },
     "metadata": {},
     "output_type": "display_data"
    },
    {
     "name": "stdout",
     "output_type": "stream",
     "text": [
      "'ba6de314675567f28b142ba42bab0ab026f777507ab8ca885397dd9494d2a855'"
     ]
    }
   ],
   "source": [
    "surrogateKey([\"01221212\",\"123123123\",\"Hello World\"])"
   ]
  },
  {
   "cell_type": "markdown",
   "metadata": {},
   "source": [
    "Now let's create the UDF with the `surrogateKey` function and a lambda function, the return type is `StringType()`."
   ]
  },
  {
   "cell_type": "code",
   "execution_count": 16,
   "metadata": {
    "execution": {
     "iopub.execute_input": "2024-12-20T06:02:42.382537Z",
     "iopub.status.busy": "2024-12-20T06:02:42.382300Z",
     "iopub.status.idle": "2024-12-20T06:02:42.442778Z",
     "shell.execute_reply": "2024-12-20T06:02:42.442124Z",
     "shell.execute_reply.started": "2024-12-20T06:02:42.382510Z"
    }
   },
   "outputs": [
    {
     "data": {
      "application/vnd.jupyter.widget-view+json": {
       "model_id": "c60b90d143e1454096de0b39cfe27b33",
       "version_major": 2,
       "version_minor": 0
      },
      "text/plain": [
       "VBox()"
      ]
     },
     "metadata": {},
     "output_type": "display_data"
    },
    {
     "data": {
      "application/vnd.jupyter.widget-view+json": {
       "model_id": "",
       "version_major": 2,
       "version_minor": 0
      },
      "text/plain": [
       "FloatProgress(value=0.0, bar_style='info', description='Progress:', layout=Layout(height='25px', width='50%'),…"
      ]
     },
     "metadata": {},
     "output_type": "display_data"
    }
   ],
   "source": [
    "surrogateUDF = udf(lambda z: surrogateKey(z),StringType())"
   ]
  },
  {
   "cell_type": "markdown",
   "metadata": {},
   "source": [
    "Let's test this new UDF with the `orders_df`, use the `withColumn` function to generate a new column `order_key`, and pass to the UDF the `ordernumber` and `status` column as an `array`."
   ]
  },
  {
   "cell_type": "code",
   "execution_count": 18,
   "metadata": {
    "execution": {
     "iopub.execute_input": "2024-12-20T06:07:12.341603Z",
     "iopub.status.busy": "2024-12-20T06:07:12.341380Z",
     "iopub.status.idle": "2024-12-20T06:07:13.099241Z",
     "shell.execute_reply": "2024-12-20T06:07:13.098527Z",
     "shell.execute_reply.started": "2024-12-20T06:07:12.341580Z"
    },
    "tags": []
   },
   "outputs": [
    {
     "data": {
      "application/vnd.jupyter.widget-view+json": {
       "model_id": "f02ec9b3f7db4e6bb86f4318a34f1005",
       "version_major": 2,
       "version_minor": 0
      },
      "text/plain": [
       "VBox()"
      ]
     },
     "metadata": {},
     "output_type": "display_data"
    },
    {
     "data": {
      "application/vnd.jupyter.widget-view+json": {
       "model_id": "",
       "version_major": 2,
       "version_minor": 0
      },
      "text/plain": [
       "FloatProgress(value=0.0, bar_style='info', description='Progress:', layout=Layout(height='25px', width='50%'),…"
      ]
     },
     "metadata": {},
     "output_type": "display_data"
    },
    {
     "name": "stdout",
     "output_type": "stream",
     "text": [
      "+-----------+-------------------+-------------------+-------------------+-------+--------------------+--------------+--------------------+\n",
      "|ordernumber|          orderdate|       requireddate|        shippeddate| status|            comments|customernumber|           order_key|\n",
      "+-----------+-------------------+-------------------+-------------------+-------+--------------------+--------------+--------------------+\n",
      "|      10100|2003-01-06 00:00:00|2003-01-13 00:00:00|2003-01-10 00:00:00|Shipped|                NULL|           363|80da0f716659e6a4e...|\n",
      "|      10101|2003-01-09 00:00:00|2003-01-18 00:00:00|2003-01-11 00:00:00|Shipped|Check on availabi...|           128|3d9d10b94ae5f34b7...|\n",
      "|      10102|2003-01-10 00:00:00|2003-01-18 00:00:00|2003-01-14 00:00:00|Shipped|                NULL|           181|8fd5dcf6d74c5bec5...|\n",
      "|      10103|2003-01-29 00:00:00|2003-02-07 00:00:00|2003-02-02 00:00:00|Shipped|                NULL|           121|c1e90abbd505a6b80...|\n",
      "|      10104|2003-01-31 00:00:00|2003-02-09 00:00:00|2003-02-01 00:00:00|Shipped|                NULL|           141|5ee04b501bd77201b...|\n",
      "+-----------+-------------------+-------------------+-------------------+-------+--------------------+--------------+--------------------+\n",
      "only showing top 5 rows"
     ]
    }
   ],
   "source": [
    "orders_df.withColumn(\"order_key\",surrogateUDF(array(orders_df.ordernumber,orders_df.status))).show(5)"
   ]
  },
  {
   "cell_type": "markdown",
   "metadata": {},
   "source": [
    "<a name='4'></a>\n",
    "## 4 - Data Modeling with Spark\n",
    "\n",
    "As mentioned before, you will recreate the star schema from the Week 1 assignment of this course. "
   ]
  },
  {
   "cell_type": "markdown",
   "metadata": {},
   "source": [
    "<a name='4.1'></a>\n",
    "### 4.1 - Read the Tables\n",
    "\n",
    "For the first step, you will read the `classicmodels` tables with Spark."
   ]
  },
  {
   "cell_type": "code",
   "execution_count": 19,
   "metadata": {
    "execution": {
     "iopub.execute_input": "2024-12-20T06:07:29.850080Z",
     "iopub.status.busy": "2024-12-20T06:07:29.849855Z",
     "iopub.status.idle": "2024-12-20T06:07:30.609200Z",
     "shell.execute_reply": "2024-12-20T06:07:30.608572Z",
     "shell.execute_reply.started": "2024-12-20T06:07:29.850055Z"
    }
   },
   "outputs": [
    {
     "data": {
      "application/vnd.jupyter.widget-view+json": {
       "model_id": "54c091e86b68465a8dc41699ad448da3",
       "version_major": 2,
       "version_minor": 0
      },
      "text/plain": [
       "VBox()"
      ]
     },
     "metadata": {},
     "output_type": "display_data"
    },
    {
     "data": {
      "application/vnd.jupyter.widget-view+json": {
       "model_id": "",
       "version_major": 2,
       "version_minor": 0
      },
      "text/plain": [
       "FloatProgress(value=0.0, bar_style='info', description='Progress:', layout=Layout(height='25px', width='50%'),…"
      ]
     },
     "metadata": {},
     "output_type": "display_data"
    }
   ],
   "source": [
    "employees_df = spark.read.jdbc(url=jdbc_url, table=\"classicmodels.employees\", properties=jdbc_properties)\n",
    "offices_df = spark.read.jdbc(url=jdbc_url, table=\"classicmodels.offices\", properties=jdbc_properties)\n",
    "customers_df = spark.read.jdbc(url=jdbc_url, table=\"classicmodels.customers\", properties=jdbc_properties)\n",
    "orderdetails_df = spark.read.jdbc(url=jdbc_url, table=\"classicmodels.orderdetails\", properties=jdbc_properties)\n",
    "productlines_df = spark.read.jdbc(url=jdbc_url, table=\"classicmodels.productlines\", properties=jdbc_properties)\n",
    "products_df = spark.read.jdbc(url=jdbc_url, table=\"classicmodels.products\", properties=jdbc_properties)\n",
    "payments_df = spark.read.jdbc(url=jdbc_url, table=\"classicmodels.payments\", properties=jdbc_properties)"
   ]
  },
  {
   "cell_type": "markdown",
   "metadata": {},
   "source": [
    "Register the Spark DataFrames as temporary views, and call them with the same name as their Postgres RDS counterpart."
   ]
  },
  {
   "cell_type": "code",
   "execution_count": 20,
   "metadata": {
    "execution": {
     "iopub.execute_input": "2024-12-20T06:07:32.623186Z",
     "iopub.status.busy": "2024-12-20T06:07:32.622947Z",
     "iopub.status.idle": "2024-12-20T06:07:32.876825Z",
     "shell.execute_reply": "2024-12-20T06:07:32.876263Z",
     "shell.execute_reply.started": "2024-12-20T06:07:32.623160Z"
    }
   },
   "outputs": [
    {
     "data": {
      "application/vnd.jupyter.widget-view+json": {
       "model_id": "ec8482b1a4fa47d79a8e076821c534f9",
       "version_major": 2,
       "version_minor": 0
      },
      "text/plain": [
       "VBox()"
      ]
     },
     "metadata": {},
     "output_type": "display_data"
    },
    {
     "data": {
      "application/vnd.jupyter.widget-view+json": {
       "model_id": "",
       "version_major": 2,
       "version_minor": 0
      },
      "text/plain": [
       "FloatProgress(value=0.0, bar_style='info', description='Progress:', layout=Layout(height='25px', width='50%'),…"
      ]
     },
     "metadata": {},
     "output_type": "display_data"
    }
   ],
   "source": [
    "employees_df.createOrReplaceTempView(\"employees\")\n",
    "offices_df.createOrReplaceTempView(\"offices\")\n",
    "customers_df.createOrReplaceTempView(\"customers\")\n",
    "orderdetails_df.createOrReplaceTempView(\"orderdetails\")\n",
    "productlines_df.createOrReplaceTempView(\"productlines\")\n",
    "products_df.createOrReplaceTempView(\"products\")\n",
    "payments_df.createOrReplaceTempView(\"payments\")"
   ]
  },
  {
   "cell_type": "markdown",
   "metadata": {},
   "source": [
    "You can verify the schema of any of the tables with the `printSchema` function."
   ]
  },
  {
   "cell_type": "code",
   "execution_count": 21,
   "metadata": {
    "execution": {
     "iopub.execute_input": "2024-12-20T06:07:48.341471Z",
     "iopub.status.busy": "2024-12-20T06:07:48.341248Z",
     "iopub.status.idle": "2024-12-20T06:07:48.399865Z",
     "shell.execute_reply": "2024-12-20T06:07:48.399076Z",
     "shell.execute_reply.started": "2024-12-20T06:07:48.341447Z"
    }
   },
   "outputs": [
    {
     "data": {
      "application/vnd.jupyter.widget-view+json": {
       "model_id": "4e2c26441a7545c784a634837c9c491a",
       "version_major": 2,
       "version_minor": 0
      },
      "text/plain": [
       "VBox()"
      ]
     },
     "metadata": {},
     "output_type": "display_data"
    },
    {
     "data": {
      "application/vnd.jupyter.widget-view+json": {
       "model_id": "",
       "version_major": 2,
       "version_minor": 0
      },
      "text/plain": [
       "FloatProgress(value=0.0, bar_style='info', description='Progress:', layout=Layout(height='25px', width='50%'),…"
      ]
     },
     "metadata": {},
     "output_type": "display_data"
    },
    {
     "name": "stdout",
     "output_type": "stream",
     "text": [
      "root\n",
      " |-- productcode: string (nullable = true)\n",
      " |-- productname: string (nullable = true)\n",
      " |-- productscale: string (nullable = true)\n",
      " |-- productvendor: string (nullable = true)\n",
      " |-- productdescription: string (nullable = true)\n",
      " |-- quantityinstock: short (nullable = true)\n",
      " |-- buyprice: decimal(38,18) (nullable = true)\n",
      " |-- msrp: decimal(38,18) (nullable = true)\n",
      " |-- productline: string (nullable = true)"
     ]
    }
   ],
   "source": [
    "products_df.printSchema()"
   ]
  },
  {
   "cell_type": "markdown",
   "metadata": {},
   "source": [
    "<a name='4.2'></a>\n",
    "### 4.2 - Star Schema\n",
    "\n",
    "Here is the new ERM diagram for the star schema, which was modified to include some transformations. You will use Spark SQL to bring the necessary columns for each table. Then you will perform additional operations to the resulting DataFrame and store the resulting data in the `classicmodels_star_schema` schema in the Postgres RDS.\n",
    "\n",
    "![img](https://dlai-data-engineering.s3.amazonaws.com/labs/c4w3a1-177787/images/star_schema.png)"
   ]
  },
  {
   "cell_type": "markdown",
   "metadata": {},
   "source": [
    "<a name='4.3'></a>\n",
    "### 4.3 - Customers Dimension\n",
    "\n",
    "Let's start with the dimensional tables, first with the `customers` dimension. "
   ]
  },
  {
   "cell_type": "markdown",
   "metadata": {},
   "source": [
    "4.3.1. Create a SQL query that brings the relevant columns from the `customers` temporal view and stores the query result in a Spark DataFrame. Follow the instructions to prepare the query:\n",
    "- You need to create a column `customer_number` based on the `customerNumber`, which will be a surrogate key `customer_key` later. This function requires an array of text columns so you will need to `cast()` the `customerNumber` to string.\n",
    "- For this new data model you are required to create the field `contact_name` which is a combination of the `contactFirstName` and `contactLastName` fields. You can use the function `concat()`."
   ]
  },
  {
   "cell_type": "code",
   "execution_count": 23,
   "metadata": {
    "execution": {
     "iopub.execute_input": "2024-12-20T06:09:35.462045Z",
     "iopub.status.busy": "2024-12-20T06:09:35.461816Z",
     "iopub.status.idle": "2024-12-20T06:09:35.715246Z",
     "shell.execute_reply": "2024-12-20T06:09:35.714595Z",
     "shell.execute_reply.started": "2024-12-20T06:09:35.462019Z"
    },
    "exercise": [
     "ex01"
    ],
    "tags": [
     "graded"
    ]
   },
   "outputs": [
    {
     "data": {
      "application/vnd.jupyter.widget-view+json": {
       "model_id": "a4a79c77e42247018793ff81c35dcb1b",
       "version_major": 2,
       "version_minor": 0
      },
      "text/plain": [
       "VBox()"
      ]
     },
     "metadata": {},
     "output_type": "display_data"
    },
    {
     "data": {
      "application/vnd.jupyter.widget-view+json": {
       "model_id": "",
       "version_major": 2,
       "version_minor": 0
      },
      "text/plain": [
       "FloatProgress(value=0.0, bar_style='info', description='Progress:', layout=Layout(height='25px', width='50%'),…"
      ]
     },
     "metadata": {},
     "output_type": "display_data"
    }
   ],
   "source": [
    "select_query_customers = \"\"\"\n",
    "SELECT \n",
    "    cast(customerNumber as string) as customer_number, \n",
    "    customerName as customer_name,\n",
    "    concat(contactFirstName, contactLastName) as contact_name, \n",
    "    phone as phone, \n",
    "    addressLine1 as address_line_1, \n",
    "    addressLine2 as address_line_2, \n",
    "    postalCode as postal_code, \n",
    "    city as city, \n",
    "    state as state, \n",
    "    country as country,\n",
    "    creditLimit as credit_limit\n",
    "FROM customers\n",
    "\"\"\"\n",
    "\n",
    "dim_customers_df = spark.sql(select_query_customers)"
   ]
  },
  {
   "cell_type": "markdown",
   "metadata": {},
   "source": [
    "4.3.2. Now, with the resulting `dim_customers_df` DataFrame:\n",
    "- Call the `surrogateUDF` to generate a surrogate key based on the `customer_number`. You will need to use `array()` function to convert it to an array. \n",
    "- Add the surrogate key using the `withColumn()` function, call the new column `customer_key`. \n",
    "\n",
    "Then perform a select to grab the columns related to the ERM diagram."
   ]
  },
  {
   "cell_type": "code",
   "execution_count": 24,
   "metadata": {
    "execution": {
     "iopub.execute_input": "2024-12-20T06:11:36.841149Z",
     "iopub.status.busy": "2024-12-20T06:11:36.840917Z",
     "iopub.status.idle": "2024-12-20T06:11:37.095228Z",
     "shell.execute_reply": "2024-12-20T06:11:37.094583Z",
     "shell.execute_reply.started": "2024-12-20T06:11:36.841124Z"
    },
    "exercise": [
     "ex02"
    ],
    "tags": [
     "graded"
    ]
   },
   "outputs": [
    {
     "data": {
      "application/vnd.jupyter.widget-view+json": {
       "model_id": "c746ae5722074097bef9fea6443aaeba",
       "version_major": 2,
       "version_minor": 0
      },
      "text/plain": [
       "VBox()"
      ]
     },
     "metadata": {},
     "output_type": "display_data"
    },
    {
     "data": {
      "application/vnd.jupyter.widget-view+json": {
       "model_id": "",
       "version_major": 2,
       "version_minor": 0
      },
      "text/plain": [
       "FloatProgress(value=0.0, bar_style='info', description='Progress:', layout=Layout(height='25px', width='50%'),…"
      ]
     },
     "metadata": {},
     "output_type": "display_data"
    }
   ],
   "source": [
    "dim_customers_df = dim_customers_df.withColumn(\"customer_key\", surrogateUDF(array(\"customer_number\")))\\\n",
    ".select([\"customer_key\",\"customer_name\",\"contact_name\",\"phone\",\"address_line_1\",\"address_line_2\",\"postal_code\",\"city\",\"state\",\"country\",\"credit_limit\"])"
   ]
  },
  {
   "cell_type": "markdown",
   "metadata": {},
   "source": [
    "4.3.3. Now, store the final DataFrame into the `classicmodels_star_schema` schema, creating a new table called `dim_customers`."
   ]
  },
  {
   "cell_type": "code",
   "execution_count": 25,
   "metadata": {
    "execution": {
     "iopub.execute_input": "2024-12-20T06:13:48.918792Z",
     "iopub.status.busy": "2024-12-20T06:13:48.918510Z",
     "iopub.status.idle": "2024-12-20T06:13:58.215685Z",
     "shell.execute_reply": "2024-12-20T06:13:58.215061Z",
     "shell.execute_reply.started": "2024-12-20T06:13:48.918764Z"
    },
    "exercise": [
     "ex03"
    ],
    "tags": [
     "graded"
    ]
   },
   "outputs": [
    {
     "data": {
      "application/vnd.jupyter.widget-view+json": {
       "model_id": "358bdb84960f4f78a8bf5a511f511197",
       "version_major": 2,
       "version_minor": 0
      },
      "text/plain": [
       "VBox()"
      ]
     },
     "metadata": {},
     "output_type": "display_data"
    },
    {
     "data": {
      "application/vnd.jupyter.widget-view+json": {
       "model_id": "",
       "version_major": 2,
       "version_minor": 0
      },
      "text/plain": [
       "FloatProgress(value=0.0, bar_style='info', description='Progress:', layout=Layout(height='25px', width='50%'),…"
      ]
     },
     "metadata": {},
     "output_type": "display_data"
    }
   ],
   "source": [
    "dim_customers_df.write.jdbc(url=jdbc_url, table=\"classicmodels_star_schema.dim_customers\", mode=\"overwrite\", properties=jdbc_properties)"
   ]
  },
  {
   "cell_type": "markdown",
   "metadata": {},
   "source": [
    "4.3.4. Check that the table is stored in the schema:"
   ]
  },
  {
   "cell_type": "code",
   "execution_count": 26,
   "metadata": {
    "execution": {
     "iopub.execute_input": "2024-12-20T06:14:44.277259Z",
     "iopub.status.busy": "2024-12-20T06:14:44.277035Z",
     "iopub.status.idle": "2024-12-20T06:14:45.544771Z",
     "shell.execute_reply": "2024-12-20T06:14:45.544132Z",
     "shell.execute_reply.started": "2024-12-20T06:14:44.277234Z"
    },
    "exercise": [
     "ex04"
    ],
    "tags": [
     "graded"
    ]
   },
   "outputs": [
    {
     "data": {
      "application/vnd.jupyter.widget-view+json": {
       "model_id": "a651f063151548f98b0f0f7d532c4d81",
       "version_major": 2,
       "version_minor": 0
      },
      "text/plain": [
       "VBox()"
      ]
     },
     "metadata": {},
     "output_type": "display_data"
    },
    {
     "data": {
      "application/vnd.jupyter.widget-view+json": {
       "model_id": "",
       "version_major": 2,
       "version_minor": 0
      },
      "text/plain": [
       "FloatProgress(value=0.0, bar_style='info', description='Progress:', layout=Layout(height='25px', width='50%'),…"
      ]
     },
     "metadata": {},
     "output_type": "display_data"
    },
    {
     "name": "stdout",
     "output_type": "stream",
     "text": [
      "dim_customers column names:  ['customer_key', 'customer_name', 'contact_name', 'phone', 'address_line_1', 'address_line_2', 'postal_code', 'city', 'state', 'country', 'credit_limit']\n",
      "dim_customers number of rows:  122"
     ]
    }
   ],
   "source": [
    "dim_customers_df_check = spark.read.jdbc(url=jdbc_url, table=\"classicmodels_star_schema.dim_customers\", properties=jdbc_properties)\n",
    "\n",
    "print(\"dim_customers column names: \", dim_customers_df_check.columns)\n",
    "\n",
    "dim_customers_row_count = dim_customers_df_check.count()\n",
    "print(\"dim_customers number of rows: \", dim_customers_row_count)"
   ]
  },
  {
   "cell_type": "markdown",
   "metadata": {},
   "source": [
    "##### __Expected Output__\n",
    "\n",
    "```\n",
    "dim_customers column names:  ['customer_key', 'customer_name', 'contact_name', 'phone', 'address_line_1', 'address_line_2', 'postal_code', 'city', 'state', 'country', 'credit_limit']\n",
    "dim_customers number of rows:  122\n",
    "```"
   ]
  },
  {
   "cell_type": "markdown",
   "metadata": {},
   "source": [
    "<a name='4.4'></a>\n",
    "### 4.4 - Products Dimension\n",
    "\n",
    "Continue with the `products` dimension. "
   ]
  },
  {
   "cell_type": "markdown",
   "metadata": {},
   "source": [
    "4.4.1. Create a SQL query that brings the relevant columns from the `products` temporal view and stores the query result in a Spark DataFrame. Later you will create a surrogate key `product_key` based on the `productCode`. The `productCode` is already a string, so you don't have to cast it - just select it for now and name as `product_code` for consistency."
   ]
  },
  {
   "cell_type": "code",
   "execution_count": 27,
   "metadata": {
    "execution": {
     "iopub.execute_input": "2024-12-20T06:16:25.577704Z",
     "iopub.status.busy": "2024-12-20T06:16:25.577442Z",
     "iopub.status.idle": "2024-12-20T06:16:25.830476Z",
     "shell.execute_reply": "2024-12-20T06:16:25.829879Z",
     "shell.execute_reply.started": "2024-12-20T06:16:25.577675Z"
    },
    "exercise": [
     "ex05"
    ],
    "tags": [
     "graded"
    ]
   },
   "outputs": [
    {
     "data": {
      "application/vnd.jupyter.widget-view+json": {
       "model_id": "9223df38864948e69ac89c3c21ebee4b",
       "version_major": 2,
       "version_minor": 0
      },
      "text/plain": [
       "VBox()"
      ]
     },
     "metadata": {},
     "output_type": "display_data"
    },
    {
     "data": {
      "application/vnd.jupyter.widget-view+json": {
       "model_id": "",
       "version_major": 2,
       "version_minor": 0
      },
      "text/plain": [
       "FloatProgress(value=0.0, bar_style='info', description='Progress:', layout=Layout(height='25px', width='50%'),…"
      ]
     },
     "metadata": {},
     "output_type": "display_data"
    }
   ],
   "source": [
    "select_query_products = \"\"\"\n",
    "SELECT \n",
    "    productCode as product_code, \n",
    "    productName as product_name, \n",
    "    products.productLine as product_line, \n",
    "    productScale as product_scale, \n",
    "    productVendor as product_vendor,\n",
    "    productDescription as product_description, \n",
    "    textDescription as product_line_description\n",
    "FROM products\n",
    "JOIN productlines ON products.productLine=productlines.productLine\n",
    "\"\"\"\n",
    "\n",
    "dim_products_df = spark.sql(select_query_products)"
   ]
  },
  {
   "cell_type": "markdown",
   "metadata": {},
   "source": [
    "4.4.2. With the resulting `dim_products_df` DataFrame:\n",
    "- Call the `surrogateUDF` to generate a surrogate key based on the `product_code`. You will need to use `array()` function to convert it to an array. \n",
    "- Add the surrogate key using the `withColumn()` function, call the new column `product_key`. \n",
    "\n",
    "Then perform a select to grab the columns related to the ERM diagram."
   ]
  },
  {
   "cell_type": "code",
   "execution_count": 28,
   "metadata": {
    "execution": {
     "iopub.execute_input": "2024-12-20T06:17:30.655896Z",
     "iopub.status.busy": "2024-12-20T06:17:30.655670Z",
     "iopub.status.idle": "2024-12-20T06:17:30.914475Z",
     "shell.execute_reply": "2024-12-20T06:17:30.913857Z",
     "shell.execute_reply.started": "2024-12-20T06:17:30.655873Z"
    },
    "exercise": [
     "ex06"
    ],
    "tags": [
     "graded"
    ]
   },
   "outputs": [
    {
     "data": {
      "application/vnd.jupyter.widget-view+json": {
       "model_id": "f95d0d7ba41d40e9b3c12acfc37be514",
       "version_major": 2,
       "version_minor": 0
      },
      "text/plain": [
       "VBox()"
      ]
     },
     "metadata": {},
     "output_type": "display_data"
    },
    {
     "data": {
      "application/vnd.jupyter.widget-view+json": {
       "model_id": "",
       "version_major": 2,
       "version_minor": 0
      },
      "text/plain": [
       "FloatProgress(value=0.0, bar_style='info', description='Progress:', layout=Layout(height='25px', width='50%'),…"
      ]
     },
     "metadata": {},
     "output_type": "display_data"
    }
   ],
   "source": [
    "dim_products_df = dim_products_df.withColumn(\"product_key\", surrogateUDF(array(\"product_code\")))\\\n",
    ".select([\"product_key\",\"product_name\",\"product_line\",\"product_scale\",\"product_vendor\",\"product_description\",\"product_line_description\"])"
   ]
  },
  {
   "cell_type": "markdown",
   "metadata": {},
   "source": [
    "4.4.3. Store the `dim_products_df` DataFrame into the `classicmodels_star_schema` schema, table `dim_products` (see how it was done in the step 4.3.3)."
   ]
  },
  {
   "cell_type": "code",
   "execution_count": 30,
   "metadata": {
    "execution": {
     "iopub.execute_input": "2024-12-20T06:17:51.879258Z",
     "iopub.status.busy": "2024-12-20T06:17:51.879018Z",
     "iopub.status.idle": "2024-12-20T06:18:09.235894Z",
     "shell.execute_reply": "2024-12-20T06:18:09.235288Z",
     "shell.execute_reply.started": "2024-12-20T06:17:51.879233Z"
    },
    "exercise": [
     "ex07"
    ],
    "tags": [
     "graded"
    ]
   },
   "outputs": [
    {
     "data": {
      "application/vnd.jupyter.widget-view+json": {
       "model_id": "89d8ce292e45455a9f4cebf961c4c7fe",
       "version_major": 2,
       "version_minor": 0
      },
      "text/plain": [
       "VBox()"
      ]
     },
     "metadata": {},
     "output_type": "display_data"
    },
    {
     "data": {
      "application/vnd.jupyter.widget-view+json": {
       "model_id": "",
       "version_major": 2,
       "version_minor": 0
      },
      "text/plain": [
       "FloatProgress(value=0.0, bar_style='info', description='Progress:', layout=Layout(height='25px', width='50%'),…"
      ]
     },
     "metadata": {},
     "output_type": "display_data"
    }
   ],
   "source": [
    "dim_products_df.write.jdbc(url=jdbc_url, table=\"classicmodels_star_schema.dim_products\", mode=\"overwrite\", properties=jdbc_properties)"
   ]
  },
  {
   "cell_type": "markdown",
   "metadata": {},
   "source": [
    "4.4.4. Check your work:"
   ]
  },
  {
   "cell_type": "code",
   "execution_count": 31,
   "metadata": {
    "execution": {
     "iopub.execute_input": "2024-12-20T06:18:12.281719Z",
     "iopub.status.busy": "2024-12-20T06:18:12.281492Z",
     "iopub.status.idle": "2024-12-20T06:18:13.041836Z",
     "shell.execute_reply": "2024-12-20T06:18:13.041225Z",
     "shell.execute_reply.started": "2024-12-20T06:18:12.281695Z"
    },
    "exercise": [
     "ex08"
    ],
    "tags": [
     "graded"
    ]
   },
   "outputs": [
    {
     "data": {
      "application/vnd.jupyter.widget-view+json": {
       "model_id": "a37b1ac77f3c4382972a4fa9291daa9c",
       "version_major": 2,
       "version_minor": 0
      },
      "text/plain": [
       "VBox()"
      ]
     },
     "metadata": {},
     "output_type": "display_data"
    },
    {
     "data": {
      "application/vnd.jupyter.widget-view+json": {
       "model_id": "",
       "version_major": 2,
       "version_minor": 0
      },
      "text/plain": [
       "FloatProgress(value=0.0, bar_style='info', description='Progress:', layout=Layout(height='25px', width='50%'),…"
      ]
     },
     "metadata": {},
     "output_type": "display_data"
    },
    {
     "name": "stdout",
     "output_type": "stream",
     "text": [
      "dim_products column names:  ['product_key', 'product_name', 'product_line', 'product_scale', 'product_vendor', 'product_description', 'product_line_description']\n",
      "dim_products number of rows:  110"
     ]
    }
   ],
   "source": [
    "dim_products_df_check = spark.read.jdbc(url=jdbc_url, table=\"classicmodels_star_schema.dim_products\", properties=jdbc_properties)\n",
    "\n",
    "print(\"dim_products column names: \", dim_products_df_check.columns)\n",
    "\n",
    "dim_products_row_count = dim_products_df_check.count()\n",
    "print(\"dim_products number of rows: \", dim_products_row_count)"
   ]
  },
  {
   "cell_type": "markdown",
   "metadata": {},
   "source": [
    "##### __Expected Output__\n",
    "\n",
    "```\n",
    "dim_products column names:  ['product_key', 'product_name', 'product_line', 'product_scale', 'product_vendor', 'product_description', 'product_line_description']\n",
    "dim_products number of rows:  110\n",
    "```"
   ]
  },
  {
   "cell_type": "markdown",
   "metadata": {},
   "source": [
    "<a name='4.5'></a>\n",
    "### 4.5 - Offices Dimension\n",
    "\n",
    "Now, let's proceed with the `offices` dimension."
   ]
  },
  {
   "cell_type": "markdown",
   "metadata": {},
   "source": [
    "4.5.1. Create a SQL query that brings the relevant columns from the `offices` temporal table and stores the query result in a Spark dataframe. Later you will create a surrogate key `office_key` based on the `officeCode`. The `officeCode` is already a string, so you don't have to cast it - just select it for now and name as `office_code` for consistency."
   ]
  },
  {
   "cell_type": "code",
   "execution_count": 32,
   "metadata": {
    "execution": {
     "iopub.execute_input": "2024-12-20T06:19:05.628065Z",
     "iopub.status.busy": "2024-12-20T06:19:05.627837Z",
     "iopub.status.idle": "2024-12-20T06:19:05.691618Z",
     "shell.execute_reply": "2024-12-20T06:19:05.691021Z",
     "shell.execute_reply.started": "2024-12-20T06:19:05.628040Z"
    },
    "exercise": [
     "ex09"
    ],
    "tags": [
     "graded"
    ]
   },
   "outputs": [
    {
     "data": {
      "application/vnd.jupyter.widget-view+json": {
       "model_id": "38c6e8b7944b4b3fa1e1d15fa88bd95a",
       "version_major": 2,
       "version_minor": 0
      },
      "text/plain": [
       "VBox()"
      ]
     },
     "metadata": {},
     "output_type": "display_data"
    },
    {
     "data": {
      "application/vnd.jupyter.widget-view+json": {
       "model_id": "",
       "version_major": 2,
       "version_minor": 0
      },
      "text/plain": [
       "FloatProgress(value=0.0, bar_style='info', description='Progress:', layout=Layout(height='25px', width='50%'),…"
      ]
     },
     "metadata": {},
     "output_type": "display_data"
    }
   ],
   "source": [
    "select_query_offices = \"\"\"\n",
    "SELECT \n",
    "    officeCode as office_code, \n",
    "    postalCode as postal_code, \n",
    "    city as city, \n",
    "    state as state, \n",
    "    country as country, \n",
    "    territory as territory\n",
    "FROM offices\n",
    "\"\"\"\n",
    "\n",
    "dim_offices_df = spark.sql(select_query_offices)"
   ]
  },
  {
   "cell_type": "markdown",
   "metadata": {},
   "source": [
    "4.5.2. With the resulting `dim_offices_df` DataFrame:\n",
    "- Call the `surrogateUDF` to generate a surrogate key based on the `office_code`. You will need to use `array()` function to convert it to an array. \n",
    "- Add the surrogate key using the `withColumn()` function, call the new column `office_key`. \n",
    "\n",
    "Then perform a select to grab the columns related to the ERM diagram."
   ]
  },
  {
   "cell_type": "code",
   "execution_count": 33,
   "metadata": {
    "execution": {
     "iopub.execute_input": "2024-12-20T06:19:32.830933Z",
     "iopub.status.busy": "2024-12-20T06:19:32.830702Z",
     "iopub.status.idle": "2024-12-20T06:19:33.083507Z",
     "shell.execute_reply": "2024-12-20T06:19:33.082782Z",
     "shell.execute_reply.started": "2024-12-20T06:19:32.830909Z"
    },
    "exercise": [
     "ex10"
    ],
    "tags": [
     "graded"
    ]
   },
   "outputs": [
    {
     "data": {
      "application/vnd.jupyter.widget-view+json": {
       "model_id": "bf55235734374c518effe7ce9a1ca752",
       "version_major": 2,
       "version_minor": 0
      },
      "text/plain": [
       "VBox()"
      ]
     },
     "metadata": {},
     "output_type": "display_data"
    },
    {
     "data": {
      "application/vnd.jupyter.widget-view+json": {
       "model_id": "",
       "version_major": 2,
       "version_minor": 0
      },
      "text/plain": [
       "FloatProgress(value=0.0, bar_style='info', description='Progress:', layout=Layout(height='25px', width='50%'),…"
      ]
     },
     "metadata": {},
     "output_type": "display_data"
    }
   ],
   "source": [
    "dim_offices_df = dim_offices_df.withColumn(\"office_key\", surrogateUDF(array(\"office_code\")))\\\n",
    ".select([\"office_key\",\"postal_code\",\"city\",\"state\",\"country\",\"territory\"])"
   ]
  },
  {
   "cell_type": "markdown",
   "metadata": {},
   "source": [
    "4.5.3. Store the `dim_offices_df` DataFrame into the `classicmodels_star_schema` schema, table `dim_offices`."
   ]
  },
  {
   "cell_type": "code",
   "execution_count": 34,
   "metadata": {
    "execution": {
     "iopub.execute_input": "2024-12-20T06:19:50.046816Z",
     "iopub.status.busy": "2024-12-20T06:19:50.046590Z",
     "iopub.status.idle": "2024-12-20T06:19:59.346675Z",
     "shell.execute_reply": "2024-12-20T06:19:59.346042Z",
     "shell.execute_reply.started": "2024-12-20T06:19:50.046792Z"
    },
    "exercise": [
     "ex11"
    ],
    "tags": [
     "graded"
    ]
   },
   "outputs": [
    {
     "data": {
      "application/vnd.jupyter.widget-view+json": {
       "model_id": "c98cea5a93f546a8a90dc1195e65e73b",
       "version_major": 2,
       "version_minor": 0
      },
      "text/plain": [
       "VBox()"
      ]
     },
     "metadata": {},
     "output_type": "display_data"
    },
    {
     "data": {
      "application/vnd.jupyter.widget-view+json": {
       "model_id": "",
       "version_major": 2,
       "version_minor": 0
      },
      "text/plain": [
       "FloatProgress(value=0.0, bar_style='info', description='Progress:', layout=Layout(height='25px', width='50%'),…"
      ]
     },
     "metadata": {},
     "output_type": "display_data"
    }
   ],
   "source": [
    "dim_offices_df.write.jdbc(url=jdbc_url, table=\"classicmodels_star_schema.dim_offices\", mode=\"overwrite\", properties=jdbc_properties)"
   ]
  },
  {
   "cell_type": "markdown",
   "metadata": {},
   "source": [
    "4.5.4. Check your work:"
   ]
  },
  {
   "cell_type": "code",
   "execution_count": 35,
   "metadata": {
    "execution": {
     "iopub.execute_input": "2024-12-20T06:19:59.347889Z",
     "iopub.status.busy": "2024-12-20T06:19:59.347719Z",
     "iopub.status.idle": "2024-12-20T06:20:00.117273Z",
     "shell.execute_reply": "2024-12-20T06:20:00.116516Z",
     "shell.execute_reply.started": "2024-12-20T06:19:59.347867Z"
    },
    "exercise": [
     "ex12"
    ],
    "tags": [
     "graded"
    ]
   },
   "outputs": [
    {
     "data": {
      "application/vnd.jupyter.widget-view+json": {
       "model_id": "e0f4b8d8433f4349bbadba7bc85c1f84",
       "version_major": 2,
       "version_minor": 0
      },
      "text/plain": [
       "VBox()"
      ]
     },
     "metadata": {},
     "output_type": "display_data"
    },
    {
     "data": {
      "application/vnd.jupyter.widget-view+json": {
       "model_id": "",
       "version_major": 2,
       "version_minor": 0
      },
      "text/plain": [
       "FloatProgress(value=0.0, bar_style='info', description='Progress:', layout=Layout(height='25px', width='50%'),…"
      ]
     },
     "metadata": {},
     "output_type": "display_data"
    },
    {
     "name": "stdout",
     "output_type": "stream",
     "text": [
      "dim_offices column names:  ['office_key', 'postal_code', 'city', 'state', 'country', 'territory']\n",
      "dim_offices number of rows:  7"
     ]
    }
   ],
   "source": [
    "dim_offices_df_check = spark.read.jdbc(url=jdbc_url, table=\"classicmodels_star_schema.dim_offices\", properties=jdbc_properties)\n",
    "\n",
    "print(\"dim_offices column names: \", dim_offices_df_check.columns)\n",
    "\n",
    "dim_offices_row_count = dim_offices_df_check.count()\n",
    "print(\"dim_offices number of rows: \", dim_offices_row_count)"
   ]
  },
  {
   "cell_type": "markdown",
   "metadata": {},
   "source": [
    "##### __Expected Output__\n",
    "\n",
    "```\n",
    "dim_offices column names:  ['office_key', 'postal_code', 'city', 'state', 'country', 'territory']\n",
    "dim_offices number of rows:  7\n",
    "```"
   ]
  },
  {
   "cell_type": "markdown",
   "metadata": {},
   "source": [
    "<a name='4.6'></a>\n",
    "### 4.6 - Employees Dimension\n",
    "\n",
    "Let's continue with the `employees` dimension."
   ]
  },
  {
   "cell_type": "markdown",
   "metadata": {},
   "source": [
    "4.6.1. Follow similar steps to create `employees` dimension. There will be a surrogate key `employee_key` based on the `employeeNumber`. You'll need to create a column `employee_number` based on the `employeeNumber`. Cast to string with the function `cast()`."
   ]
  },
  {
   "cell_type": "code",
   "execution_count": 36,
   "metadata": {
    "execution": {
     "iopub.execute_input": "2024-12-20T06:20:25.991991Z",
     "iopub.status.busy": "2024-12-20T06:20:25.991768Z",
     "iopub.status.idle": "2024-12-20T06:20:26.039280Z",
     "shell.execute_reply": "2024-12-20T06:20:26.038728Z",
     "shell.execute_reply.started": "2024-12-20T06:20:25.991967Z"
    },
    "exercise": [
     "ex13"
    ],
    "tags": [
     "graded"
    ]
   },
   "outputs": [
    {
     "data": {
      "application/vnd.jupyter.widget-view+json": {
       "model_id": "a854cc2f1b7b43d1b9528c60aaaea0e4",
       "version_major": 2,
       "version_minor": 0
      },
      "text/plain": [
       "VBox()"
      ]
     },
     "metadata": {},
     "output_type": "display_data"
    },
    {
     "data": {
      "application/vnd.jupyter.widget-view+json": {
       "model_id": "",
       "version_major": 2,
       "version_minor": 0
      },
      "text/plain": [
       "FloatProgress(value=0.0, bar_style='info', description='Progress:', layout=Layout(height='25px', width='50%'),…"
      ]
     },
     "metadata": {},
     "output_type": "display_data"
    }
   ],
   "source": [
    "select_query_employees = \"\"\"\n",
    "SELECT \n",
    "    cast(employeeNumber as string) as employee_number,\n",
    "    lastName as employee_last_name, \n",
    "    firstName as employee_first_name, \n",
    "    jobTitle as job_title, \n",
    "    email as email\n",
    "FROM employees\n",
    "\"\"\"\n",
    "\n",
    "dim_employees_df = spark.sql(select_query_employees)"
   ]
  },
  {
   "cell_type": "markdown",
   "metadata": {},
   "source": [
    "4.6.2. With the resulting `dim_employees_df` DataFrame:\n",
    "- Call the `surrogateUDF` to generate a surrogate key based on the `employee_number`. You will need to use `array()` function to convert it to an array.\n",
    "- Add the surrogate key using the `withColumn()` function, call the new column `employee_key`. \n",
    "\n",
    "Then perform a select to grab the columns related to the ERM diagram."
   ]
  },
  {
   "cell_type": "code",
   "execution_count": 37,
   "metadata": {
    "execution": {
     "iopub.execute_input": "2024-12-20T06:20:47.956235Z",
     "iopub.status.busy": "2024-12-20T06:20:47.956009Z",
     "iopub.status.idle": "2024-12-20T06:20:48.210389Z",
     "shell.execute_reply": "2024-12-20T06:20:48.209760Z",
     "shell.execute_reply.started": "2024-12-20T06:20:47.956211Z"
    },
    "exercise": [
     "ex14"
    ],
    "tags": [
     "graded"
    ]
   },
   "outputs": [
    {
     "data": {
      "application/vnd.jupyter.widget-view+json": {
       "model_id": "00637423774b4d28a40f1a1359d531d5",
       "version_major": 2,
       "version_minor": 0
      },
      "text/plain": [
       "VBox()"
      ]
     },
     "metadata": {},
     "output_type": "display_data"
    },
    {
     "data": {
      "application/vnd.jupyter.widget-view+json": {
       "model_id": "",
       "version_major": 2,
       "version_minor": 0
      },
      "text/plain": [
       "FloatProgress(value=0.0, bar_style='info', description='Progress:', layout=Layout(height='25px', width='50%'),…"
      ]
     },
     "metadata": {},
     "output_type": "display_data"
    }
   ],
   "source": [
    "dim_employees_df = dim_employees_df.withColumn(\"employee_key\", surrogateUDF(array(\"employee_number\")))\\\n",
    ".select([\"employee_key\",\"employee_last_name\",\"employee_first_name\",\"email\"])"
   ]
  },
  {
   "cell_type": "markdown",
   "metadata": {
    "execution": {
     "iopub.execute_input": "2024-06-21T03:29:22.461906Z",
     "iopub.status.busy": "2024-06-21T03:29:22.461570Z"
    }
   },
   "source": [
    "4.6.3. Store the `dim_employees_df` DataFrame into the `classicmodels_star_schema` schema, table `dim_employees`."
   ]
  },
  {
   "cell_type": "code",
   "execution_count": 38,
   "metadata": {
    "execution": {
     "iopub.execute_input": "2024-12-20T06:21:15.796378Z",
     "iopub.status.busy": "2024-12-20T06:21:15.796141Z",
     "iopub.status.idle": "2024-12-20T06:21:25.103770Z",
     "shell.execute_reply": "2024-12-20T06:21:25.103121Z",
     "shell.execute_reply.started": "2024-12-20T06:21:15.796354Z"
    },
    "exercise": [
     "ex15"
    ],
    "tags": [
     "graded"
    ]
   },
   "outputs": [
    {
     "data": {
      "application/vnd.jupyter.widget-view+json": {
       "model_id": "4d36ae7e71bc43e7afb675284598f399",
       "version_major": 2,
       "version_minor": 0
      },
      "text/plain": [
       "VBox()"
      ]
     },
     "metadata": {},
     "output_type": "display_data"
    },
    {
     "data": {
      "application/vnd.jupyter.widget-view+json": {
       "model_id": "",
       "version_major": 2,
       "version_minor": 0
      },
      "text/plain": [
       "FloatProgress(value=0.0, bar_style='info', description='Progress:', layout=Layout(height='25px', width='50%'),…"
      ]
     },
     "metadata": {},
     "output_type": "display_data"
    }
   ],
   "source": [
    "dim_employees_df.write.jdbc(url=jdbc_url, table=\"classicmodels_star_schema.dim_employees\", mode=\"overwrite\", properties=jdbc_properties)"
   ]
  },
  {
   "cell_type": "markdown",
   "metadata": {},
   "source": [
    "4.6.4. Check your work:"
   ]
  },
  {
   "cell_type": "code",
   "execution_count": 39,
   "metadata": {
    "execution": {
     "iopub.execute_input": "2024-12-20T06:21:37.262697Z",
     "iopub.status.busy": "2024-12-20T06:21:37.262473Z",
     "iopub.status.idle": "2024-12-20T06:21:38.032673Z",
     "shell.execute_reply": "2024-12-20T06:21:38.032026Z",
     "shell.execute_reply.started": "2024-12-20T06:21:37.262673Z"
    },
    "exercise": [
     "ex16"
    ],
    "tags": [
     "graded"
    ]
   },
   "outputs": [
    {
     "data": {
      "application/vnd.jupyter.widget-view+json": {
       "model_id": "88a4aaf24b644be79df7a26327a17d60",
       "version_major": 2,
       "version_minor": 0
      },
      "text/plain": [
       "VBox()"
      ]
     },
     "metadata": {},
     "output_type": "display_data"
    },
    {
     "data": {
      "application/vnd.jupyter.widget-view+json": {
       "model_id": "",
       "version_major": 2,
       "version_minor": 0
      },
      "text/plain": [
       "FloatProgress(value=0.0, bar_style='info', description='Progress:', layout=Layout(height='25px', width='50%'),…"
      ]
     },
     "metadata": {},
     "output_type": "display_data"
    },
    {
     "name": "stdout",
     "output_type": "stream",
     "text": [
      "dim_employees column names:  ['employee_key', 'employee_last_name', 'employee_first_name', 'email']\n",
      "dim_employees number of rows:  23"
     ]
    }
   ],
   "source": [
    "dim_employees_df_check = spark.read.jdbc(url=jdbc_url, table=\"classicmodels_star_schema.dim_employees\", properties=jdbc_properties)\n",
    "\n",
    "print(\"dim_employees column names: \", dim_employees_df_check.columns)\n",
    "\n",
    "dim_employees_row_count = dim_employees_df_check.count()\n",
    "print(\"dim_employees number of rows: \", dim_employees_row_count)"
   ]
  },
  {
   "cell_type": "markdown",
   "metadata": {},
   "source": [
    "##### __Expected Output__\n",
    "\n",
    "```\n",
    "dim_employees column names:  ['employee_key', 'employee_last_name', 'employee_first_name', 'email']\n",
    "dim_employees number of rows:  23\n",
    "```"
   ]
  },
  {
   "cell_type": "markdown",
   "metadata": {},
   "source": [
    "<a name='4.7'></a>\n",
    "### 4.7 - Date Dimension\n",
    "\n",
    "4.7.1. As in the `dbt` lab, you will limit the date's dimension table to the dates that appear in the `orders` table. You are already provided with the date range required to create your dimension table. In the following cell, you will:\n",
    "\n",
    "- Use the `to_date` function to enclose the `start_date` and `end_date` strings to convert them into actual date types.\n",
    "- Use the `sequence` function from `psypark.sql.functions` to generate a sequence of values from the `start_date` to the `end_date`. Note that the third parameter is the interval, which has been set to `interval 1 day`. The result from the `sequence` function is an array of values.\n",
    "- Finally, enclose the `sequence` function into the `explode` function. This function takes an array and returns one row for each element in the array. Note how the column has been named `date_day`."
   ]
  },
  {
   "cell_type": "code",
   "execution_count": 40,
   "metadata": {
    "execution": {
     "iopub.execute_input": "2024-12-20T06:21:41.568114Z",
     "iopub.status.busy": "2024-12-20T06:21:41.567881Z",
     "iopub.status.idle": "2024-12-20T06:21:41.821673Z",
     "shell.execute_reply": "2024-12-20T06:21:41.821000Z",
     "shell.execute_reply.started": "2024-12-20T06:21:41.568090Z"
    },
    "exercise": [
     "ex17"
    ],
    "tags": [
     "graded"
    ]
   },
   "outputs": [
    {
     "data": {
      "application/vnd.jupyter.widget-view+json": {
       "model_id": "65db094d6b8843e18790428b9b2f7375",
       "version_major": 2,
       "version_minor": 0
      },
      "text/plain": [
       "VBox()"
      ]
     },
     "metadata": {},
     "output_type": "display_data"
    },
    {
     "data": {
      "application/vnd.jupyter.widget-view+json": {
       "model_id": "",
       "version_major": 2,
       "version_minor": 0
      },
      "text/plain": [
       "FloatProgress(value=0.0, bar_style='info', description='Progress:', layout=Layout(height='25px', width='50%'),…"
      ]
     },
     "metadata": {},
     "output_type": "display_data"
    }
   ],
   "source": [
    "from pyspark.sql.functions import col, explode, sequence, year, month, dayofweek, dayofmonth, dayofyear, weekofyear, date_format, lit\n",
    "from pyspark.sql.types import DateType\n",
    "\n",
    "# Date range\n",
    "start_date = \"2003-01-01\"\n",
    "end_date = \"2005-12-31\"\n",
    "\n",
    "date_range_df = spark.sql(f\"SELECT explode(sequence(to_date('{start_date}'), to_date('{end_date}'), interval 1 day)) as date_day\")"
   ]
  },
  {
   "cell_type": "markdown",
   "metadata": {},
   "source": [
    "4.7.2. Based on the `date_range_df` DataFrame, you are going to create the following columns by using the `withColumn()`:\n",
    "\n",
    "- Get the day of the week with the `dayofweek()` function; store it at the column `day_of_week`.\n",
    "- Get the day of the month with the `dayofmonth()` function; store it at the column `day_of_month`.\n",
    "- Get the number of the day in the year with the `dayofyear()` function; store it in the column `day_of_year`.\n",
    "- Get the number of the week in the year with the `weekofyear()` function; store it in the column `week_of_year`.\n",
    "- Get the the month with the `month()` function; store it at the column `month_of_year`.\n",
    "- Get the the year with the `year()` function; store it at the column `year_number`.\n",
    "\n",
    "Also, you will be creating a column `month_name`, but the code is already complete for that.\n",
    "\n",
    "In addition, you are going to create the `quarter_of_year` column by creating a new UDF. This time, instead of using the UDF as an SQL function with SparkSQL, you will register it as a Python UDF. \n",
    "\n",
    "- Complete the `get_quarter_of_year()` function by making an integer division between `date.month - 1` and 3 (with the `//` operator). Then, add 1 and return the value.\n",
    "- Call the `udf()` function and pass it as parameters to the function you just created and the `IntegerType()` function."
   ]
  },
  {
   "cell_type": "code",
   "execution_count": 43,
   "metadata": {
    "execution": {
     "iopub.execute_input": "2024-12-20T06:28:49.072016Z",
     "iopub.status.busy": "2024-12-20T06:28:49.071768Z",
     "iopub.status.idle": "2024-12-20T06:28:49.132925Z",
     "shell.execute_reply": "2024-12-20T06:28:49.132386Z",
     "shell.execute_reply.started": "2024-12-20T06:28:49.071967Z"
    },
    "tags": []
   },
   "outputs": [
    {
     "data": {
      "application/vnd.jupyter.widget-view+json": {
       "model_id": "f59742991d894dfd8c5c2c4dd106bfdb",
       "version_major": 2,
       "version_minor": 0
      },
      "text/plain": [
       "VBox()"
      ]
     },
     "metadata": {},
     "output_type": "display_data"
    },
    {
     "data": {
      "application/vnd.jupyter.widget-view+json": {
       "model_id": "",
       "version_major": 2,
       "version_minor": 0
      },
      "text/plain": [
       "FloatProgress(value=0.0, bar_style='info', description='Progress:', layout=Layout(height='25px', width='50%'),…"
      ]
     },
     "metadata": {},
     "output_type": "display_data"
    }
   ],
   "source": [
    "def get_quarter_of_year(date):\n",
    "    return (date.month - 1) // 3 + 1\n",
    "\n",
    "get_quarter_of_year_udf = udf(get_quarter_of_year, IntegerType())"
   ]
  },
  {
   "cell_type": "code",
   "execution_count": 44,
   "metadata": {
    "execution": {
     "iopub.execute_input": "2024-12-20T06:28:50.706122Z",
     "iopub.status.busy": "2024-12-20T06:28:50.705891Z",
     "iopub.status.idle": "2024-12-20T06:28:57.995164Z",
     "shell.execute_reply": "2024-12-20T06:28:57.994480Z",
     "shell.execute_reply.started": "2024-12-20T06:28:50.706095Z"
    },
    "exercise": [
     "ex18"
    ],
    "tags": [
     "graded"
    ]
   },
   "outputs": [
    {
     "data": {
      "application/vnd.jupyter.widget-view+json": {
       "model_id": "9d2c3220cfcd4ff7847058b529f1cf6c",
       "version_major": 2,
       "version_minor": 0
      },
      "text/plain": [
       "VBox()"
      ]
     },
     "metadata": {},
     "output_type": "display_data"
    },
    {
     "data": {
      "application/vnd.jupyter.widget-view+json": {
       "model_id": "",
       "version_major": 2,
       "version_minor": 0
      },
      "text/plain": [
       "FloatProgress(value=0.0, bar_style='info', description='Progress:', layout=Layout(height='25px', width='50%'),…"
      ]
     },
     "metadata": {},
     "output_type": "display_data"
    },
    {
     "name": "stdout",
     "output_type": "stream",
     "text": [
      "+----------+-----------+------------+-----------+------------+-------------+-----------+----------+---------------+\n",
      "|  date_day|day_of_week|day_of_month|day_of_year|week_of_year|month_of_year|year_number|month_name|quarter_of_year|\n",
      "+----------+-----------+------------+-----------+------------+-------------+-----------+----------+---------------+\n",
      "|2003-01-01|          4|           1|          1|           1|            1|       2003|   January|              1|\n",
      "|2003-01-02|          5|           2|          2|           1|            1|       2003|   January|              1|\n",
      "|2003-01-03|          6|           3|          3|           1|            1|       2003|   January|              1|\n",
      "|2003-01-04|          7|           4|          4|           1|            1|       2003|   January|              1|\n",
      "|2003-01-05|          1|           5|          5|           1|            1|       2003|   January|              1|\n",
      "|2003-01-06|          2|           6|          6|           2|            1|       2003|   January|              1|\n",
      "|2003-01-07|          3|           7|          7|           2|            1|       2003|   January|              1|\n",
      "|2003-01-08|          4|           8|          8|           2|            1|       2003|   January|              1|\n",
      "|2003-01-09|          5|           9|          9|           2|            1|       2003|   January|              1|\n",
      "|2003-01-10|          6|          10|         10|           2|            1|       2003|   January|              1|\n",
      "|2003-01-11|          7|          11|         11|           2|            1|       2003|   January|              1|\n",
      "|2003-01-12|          1|          12|         12|           2|            1|       2003|   January|              1|\n",
      "|2003-01-13|          2|          13|         13|           3|            1|       2003|   January|              1|\n",
      "|2003-01-14|          3|          14|         14|           3|            1|       2003|   January|              1|\n",
      "|2003-01-15|          4|          15|         15|           3|            1|       2003|   January|              1|\n",
      "|2003-01-16|          5|          16|         16|           3|            1|       2003|   January|              1|\n",
      "|2003-01-17|          6|          17|         17|           3|            1|       2003|   January|              1|\n",
      "|2003-01-18|          7|          18|         18|           3|            1|       2003|   January|              1|\n",
      "|2003-01-19|          1|          19|         19|           3|            1|       2003|   January|              1|\n",
      "|2003-01-20|          2|          20|         20|           4|            1|       2003|   January|              1|\n",
      "+----------+-----------+------------+-----------+------------+-------------+-----------+----------+---------------+\n",
      "only showing top 20 rows"
     ]
    }
   ],
   "source": [
    "date_dim_df = date_range_df.withColumn(\"day_of_week\", dayofweek(\"date_day\")) \\\n",
    "    .withColumn(\"day_of_month\", dayofmonth(\"date_day\")) \\\n",
    "    .withColumn(\"day_of_year\", dayofyear(\"date_day\")) \\\n",
    "    .withColumn(\"week_of_year\", weekofyear(\"date_day\")) \\\n",
    "    .withColumn(\"month_of_year\", month(\"date_day\")) \\\n",
    "    .withColumn(\"year_number\", year(\"date_day\")) \\\n",
    "    .withColumn(\"month_name\", date_format(\"date_day\", \"MMMM\")) \\\n",
    "    .withColumn(\"quarter_of_year\", get_quarter_of_year_udf(\"date_day\"))\n",
    "\n",
    "# Show the result\n",
    "date_dim_df.show()"
   ]
  },
  {
   "cell_type": "markdown",
   "metadata": {},
   "source": [
    "4.7.3. Store the `date_dim_df` dataframe into the `classicmodels_star_schema` schema, table `dim_date`."
   ]
  },
  {
   "cell_type": "code",
   "execution_count": 45,
   "metadata": {
    "execution": {
     "iopub.execute_input": "2024-12-20T06:29:45.765876Z",
     "iopub.status.busy": "2024-12-20T06:29:45.765649Z",
     "iopub.status.idle": "2024-12-20T06:29:48.035672Z",
     "shell.execute_reply": "2024-12-20T06:29:48.035070Z",
     "shell.execute_reply.started": "2024-12-20T06:29:45.765852Z"
    },
    "exercise": [
     "ex19"
    ],
    "tags": [
     "graded"
    ]
   },
   "outputs": [
    {
     "data": {
      "application/vnd.jupyter.widget-view+json": {
       "model_id": "d0fafb808e724afb9a2f1a89bcb81cce",
       "version_major": 2,
       "version_minor": 0
      },
      "text/plain": [
       "VBox()"
      ]
     },
     "metadata": {},
     "output_type": "display_data"
    },
    {
     "data": {
      "application/vnd.jupyter.widget-view+json": {
       "model_id": "",
       "version_major": 2,
       "version_minor": 0
      },
      "text/plain": [
       "FloatProgress(value=0.0, bar_style='info', description='Progress:', layout=Layout(height='25px', width='50%'),…"
      ]
     },
     "metadata": {},
     "output_type": "display_data"
    }
   ],
   "source": [
    "date_dim_df.write.jdbc(url=jdbc_url, table=\"classicmodels_star_schema.dim_date\", mode=\"overwrite\", properties=jdbc_properties)"
   ]
  },
  {
   "cell_type": "markdown",
   "metadata": {},
   "source": [
    "4.7.4. Check that your table was correctly stored in the schema:"
   ]
  },
  {
   "cell_type": "code",
   "execution_count": 46,
   "metadata": {
    "execution": {
     "iopub.execute_input": "2024-12-20T06:29:48.957212Z",
     "iopub.status.busy": "2024-12-20T06:29:48.956993Z",
     "iopub.status.idle": "2024-12-20T06:29:49.713322Z",
     "shell.execute_reply": "2024-12-20T06:29:49.712539Z",
     "shell.execute_reply.started": "2024-12-20T06:29:48.957189Z"
    },
    "exercise": [
     "ex20"
    ],
    "tags": [
     "graded"
    ]
   },
   "outputs": [
    {
     "data": {
      "application/vnd.jupyter.widget-view+json": {
       "model_id": "01eac93ee4c9433588374350248ab86e",
       "version_major": 2,
       "version_minor": 0
      },
      "text/plain": [
       "VBox()"
      ]
     },
     "metadata": {},
     "output_type": "display_data"
    },
    {
     "data": {
      "application/vnd.jupyter.widget-view+json": {
       "model_id": "",
       "version_major": 2,
       "version_minor": 0
      },
      "text/plain": [
       "FloatProgress(value=0.0, bar_style='info', description='Progress:', layout=Layout(height='25px', width='50%'),…"
      ]
     },
     "metadata": {},
     "output_type": "display_data"
    },
    {
     "name": "stdout",
     "output_type": "stream",
     "text": [
      "dim_date column names:  ['date_day', 'day_of_week', 'day_of_month', 'day_of_year', 'week_of_year', 'month_of_year', 'year_number', 'month_name', 'quarter_of_year']\n",
      "dim_date number of rows:  1096"
     ]
    }
   ],
   "source": [
    "date_dim_df_check = spark.read.jdbc(url=jdbc_url, table=\"classicmodels_star_schema.dim_date\", properties=jdbc_properties)\n",
    "\n",
    "print(\"dim_date column names: \", date_dim_df_check.columns)\n",
    "\n",
    "dim_employees_row_count = date_dim_df_check.count()\n",
    "print(\"dim_date number of rows: \", dim_employees_row_count)"
   ]
  },
  {
   "cell_type": "markdown",
   "metadata": {},
   "source": [
    "##### __Expected Output__\n",
    "\n",
    "```\n",
    "dim_date column names:  ['date_day', 'day_of_week', 'day_of_month', 'day_of_year', 'week_of_year', 'month_of_year', 'year_number', 'month_name', 'quarter_of_year']\n",
    "dim_date number of rows:  1096\n",
    "```"
   ]
  },
  {
   "cell_type": "markdown",
   "metadata": {},
   "source": [
    "<a name='4.8'></a>\n",
    "### 4.8 - Fact Table\n",
    "\n",
    "Finally, let's create the orders fact table. Remember that the fact table stores the surrogate keys to the dimensional tables and the numerical facts related to the business process. \n",
    "\n",
    "There has been a change in the model compared to the Week 1 assignment. You will add two new facts:\n",
    "\n",
    "- `profit`: metric calculated by subtracting the price of the product as we sell by the price we bought the product at. \n",
    "- `discount_percentage`: metric calculated by subtracting the MSRP of a product from the selling price, dividing the result by the same MSRP and then multiplying the result by 100. "
   ]
  },
  {
   "cell_type": "markdown",
   "metadata": {},
   "source": [
    "4.8.1. Here is the statement to bring all the relevant columns and create the data model into the `fact_table_df` dataframe. There are also corresponding operations to add the missing calculated columns."
   ]
  },
  {
   "cell_type": "code",
   "execution_count": 47,
   "metadata": {
    "execution": {
     "iopub.execute_input": "2024-12-20T06:29:58.160624Z",
     "iopub.status.busy": "2024-12-20T06:29:58.160347Z",
     "iopub.status.idle": "2024-12-20T06:29:58.409423Z",
     "shell.execute_reply": "2024-12-20T06:29:58.408657Z",
     "shell.execute_reply.started": "2024-12-20T06:29:58.160597Z"
    },
    "exercise": [
     "ex21"
    ],
    "tags": [
     "graded"
    ]
   },
   "outputs": [
    {
     "data": {
      "application/vnd.jupyter.widget-view+json": {
       "model_id": "8d13044fdb674c79bb1622229832a0c2",
       "version_major": 2,
       "version_minor": 0
      },
      "text/plain": [
       "VBox()"
      ]
     },
     "metadata": {},
     "output_type": "display_data"
    },
    {
     "data": {
      "application/vnd.jupyter.widget-view+json": {
       "model_id": "",
       "version_major": 2,
       "version_minor": 0
      },
      "text/plain": [
       "FloatProgress(value=0.0, bar_style='info', description='Progress:', layout=Layout(height='25px', width='50%'),…"
      ]
     },
     "metadata": {},
     "output_type": "display_data"
    }
   ],
   "source": [
    "select_query_fact = \"\"\"\n",
    "SELECT \n",
    "    orders.orderNumber, \n",
    "    cast(orderdetails.orderLineNumber as string) as order_line_number,\n",
    "    cast(orders.customerNumber as string) as customer_number, \n",
    "    cast(employees.employeeNumber as string) as employee_number,\n",
    "    offices.officeCode,\n",
    "    orderdetails.productCode, \n",
    "    orders.orderDate as order_date,\n",
    "    orders.requiredDate as order_required_date, \n",
    "    orders.shippedDate as order_shipped_date,\n",
    "    orderdetails.quantityOrdered as quantity_ordered, \n",
    "    orderdetails.priceEach as product_price,\n",
    "    (orderdetails.priceEach - products.buyPrice) as profit,\n",
    "    (products.msrp - orderdetails.priceEach)/products.msrp * 100 as discount_percentage\n",
    "FROM orders\n",
    "JOIN orderdetails ON orders.orderNumber = orderdetails.orderNumber\n",
    "JOIN customers ON orders.customerNumber = customers.customerNumber\n",
    "JOIN employees ON customers.salesRepEmployeeNumber = employees.employeeNumber\n",
    "JOIN offices ON employees.officeCode = offices.officeCode\n",
    "JOIN products ON products.productCode = orderdetails.productCode\n",
    "\"\"\";\n",
    "\n",
    "fact_table_df = spark.sql(select_query_fact)"
   ]
  },
  {
   "cell_type": "markdown",
   "metadata": {},
   "source": [
    "4.8.2. Add the calculated facts and the required surrogate keys. Use function `surrogateUDF()` passing an array based on:\n",
    "- `customer_number` for the `customer_key`,\n",
    "- `employee_number` for the `employee_key`,\n",
    "- `officeCode` for the `office_key`,\n",
    "- `productCode` for the `product_key`."
   ]
  },
  {
   "cell_type": "code",
   "execution_count": 48,
   "metadata": {
    "execution": {
     "iopub.execute_input": "2024-12-20T06:31:05.752664Z",
     "iopub.status.busy": "2024-12-20T06:31:05.752423Z",
     "iopub.status.idle": "2024-12-20T06:31:06.004514Z",
     "shell.execute_reply": "2024-12-20T06:31:06.003737Z",
     "shell.execute_reply.started": "2024-12-20T06:31:05.752639Z"
    },
    "exercise": [
     "ex22"
    ],
    "tags": [
     "graded"
    ]
   },
   "outputs": [
    {
     "data": {
      "application/vnd.jupyter.widget-view+json": {
       "model_id": "5a6422d55fce47099d4cecc3f95d5ecf",
       "version_major": 2,
       "version_minor": 0
      },
      "text/plain": [
       "VBox()"
      ]
     },
     "metadata": {},
     "output_type": "display_data"
    },
    {
     "data": {
      "application/vnd.jupyter.widget-view+json": {
       "model_id": "",
       "version_major": 2,
       "version_minor": 0
      },
      "text/plain": [
       "FloatProgress(value=0.0, bar_style='info', description='Progress:', layout=Layout(height='25px', width='50%'),…"
      ]
     },
     "metadata": {},
     "output_type": "display_data"
    }
   ],
   "source": [
    "fact_table_df = fact_table_df.withColumn(\"fact_order_key\", surrogateUDF(array(\"orderNumber\", \"order_line_number\")))\\\n",
    ".withColumn(\"customer_key\", surrogateUDF(array(\"customer_number\")))\\\n",
    ".withColumn(\"employee_key\", surrogateUDF(array(\"employee_number\")))\\\n",
    ".withColumn(\"office_key\", surrogateUDF(array(\"officeCode\")))\\\n",
    ".withColumn(\"product_key\", surrogateUDF(array(\"productCode\")))\\\n",
    ".select([\"fact_order_key\",\"customer_key\",\"employee_key\",\"office_key\",\"product_key\",\"order_date\",\"order_required_date\",\"order_shipped_date\",\"quantity_ordered\",\"product_price\",\"profit\",\"discount_percentage\"])"
   ]
  },
  {
   "cell_type": "markdown",
   "metadata": {},
   "source": [
    "4.8.3. Store the result in the `fact_orders` table in your database `classicmodels_star_schema`."
   ]
  },
  {
   "cell_type": "code",
   "execution_count": 49,
   "metadata": {
    "execution": {
     "iopub.execute_input": "2024-12-20T06:31:19.683528Z",
     "iopub.status.busy": "2024-12-20T06:31:19.683264Z",
     "iopub.status.idle": "2024-12-20T06:31:47.075217Z",
     "shell.execute_reply": "2024-12-20T06:31:47.074593Z",
     "shell.execute_reply.started": "2024-12-20T06:31:19.683501Z"
    },
    "exercise": [
     "ex23"
    ],
    "tags": [
     "graded"
    ]
   },
   "outputs": [
    {
     "data": {
      "application/vnd.jupyter.widget-view+json": {
       "model_id": "906d1e4afc66452d9a5da20aca2c1771",
       "version_major": 2,
       "version_minor": 0
      },
      "text/plain": [
       "VBox()"
      ]
     },
     "metadata": {},
     "output_type": "display_data"
    },
    {
     "data": {
      "application/vnd.jupyter.widget-view+json": {
       "model_id": "",
       "version_major": 2,
       "version_minor": 0
      },
      "text/plain": [
       "FloatProgress(value=0.0, bar_style='info', description='Progress:', layout=Layout(height='25px', width='50%'),…"
      ]
     },
     "metadata": {},
     "output_type": "display_data"
    }
   ],
   "source": [
    "fact_table_df.write.jdbc(url=jdbc_url, table=\"classicmodels_star_schema.fact_orders\", mode=\"overwrite\", properties=jdbc_properties)"
   ]
  },
  {
   "cell_type": "markdown",
   "metadata": {},
   "source": [
    "4.8.4. Check that your table was correctly stored in the schema:"
   ]
  },
  {
   "cell_type": "code",
   "execution_count": 50,
   "metadata": {
    "execution": {
     "iopub.execute_input": "2024-12-20T06:31:47.076426Z",
     "iopub.status.busy": "2024-12-20T06:31:47.076235Z",
     "iopub.status.idle": "2024-12-20T06:31:47.411591Z",
     "shell.execute_reply": "2024-12-20T06:31:47.410878Z",
     "shell.execute_reply.started": "2024-12-20T06:31:47.076401Z"
    },
    "exercise": [
     "ex24"
    ],
    "tags": [
     "graded"
    ]
   },
   "outputs": [
    {
     "data": {
      "application/vnd.jupyter.widget-view+json": {
       "model_id": "1e8b73959e764453ac478165fbb9f82c",
       "version_major": 2,
       "version_minor": 0
      },
      "text/plain": [
       "VBox()"
      ]
     },
     "metadata": {},
     "output_type": "display_data"
    },
    {
     "data": {
      "application/vnd.jupyter.widget-view+json": {
       "model_id": "",
       "version_major": 2,
       "version_minor": 0
      },
      "text/plain": [
       "FloatProgress(value=0.0, bar_style='info', description='Progress:', layout=Layout(height='25px', width='50%'),…"
      ]
     },
     "metadata": {},
     "output_type": "display_data"
    },
    {
     "name": "stdout",
     "output_type": "stream",
     "text": [
      "fact_orders column names:  ['fact_order_key', 'customer_key', 'employee_key', 'office_key', 'product_key', 'order_date', 'order_required_date', 'order_shipped_date', 'quantity_ordered', 'product_price', 'profit', 'discount_percentage']\n",
      "fact_orders number of rows:  2996"
     ]
    }
   ],
   "source": [
    "fact_table_df_check = spark.read.jdbc(url=jdbc_url, table=\"classicmodels_star_schema.fact_orders\", properties=jdbc_properties)\n",
    "\n",
    "print(\"fact_orders column names: \", fact_table_df_check.columns)\n",
    "\n",
    "fact_table_row_count = fact_table_df_check.count()\n",
    "print(\"fact_orders number of rows: \", fact_table_row_count)"
   ]
  },
  {
   "cell_type": "markdown",
   "metadata": {},
   "source": [
    "##### __Expected Output__\n",
    "\n",
    "```\n",
    "fact_orders column names:  ['fact_order_key', 'customer_key', 'employee_key', 'office_key', 'product_key', 'order_date', 'order_required_date', 'order_shipped_date', 'quantity_ordered', 'product_price', 'profit', 'discount_percentage']\n",
    "fact_orders number of rows:  2996\n",
    "```"
   ]
  },
  {
   "cell_type": "markdown",
   "metadata": {},
   "source": [
    "4.8.5. Finally, print out your schema:"
   ]
  },
  {
   "cell_type": "code",
   "execution_count": 52,
   "metadata": {
    "execution": {
     "iopub.execute_input": "2024-12-20T06:36:12.777493Z",
     "iopub.status.busy": "2024-12-20T06:36:12.777268Z",
     "iopub.status.idle": "2024-12-20T06:36:12.823811Z",
     "shell.execute_reply": "2024-12-20T06:36:12.823238Z",
     "shell.execute_reply.started": "2024-12-20T06:36:12.777468Z"
    },
    "exercise": [
     "ex25"
    ],
    "tags": [
     "graded"
    ]
   },
   "outputs": [
    {
     "data": {
      "application/vnd.jupyter.widget-view+json": {
       "model_id": "49bc92864a9f408690675f7a48d7f1a8",
       "version_major": 2,
       "version_minor": 0
      },
      "text/plain": [
       "VBox()"
      ]
     },
     "metadata": {},
     "output_type": "display_data"
    },
    {
     "data": {
      "application/vnd.jupyter.widget-view+json": {
       "model_id": "",
       "version_major": 2,
       "version_minor": 0
      },
      "text/plain": [
       "FloatProgress(value=0.0, bar_style='info', description='Progress:', layout=Layout(height='25px', width='50%'),…"
      ]
     },
     "metadata": {},
     "output_type": "display_data"
    },
    {
     "name": "stdout",
     "output_type": "stream",
     "text": [
      "root\n",
      " |-- fact_order_key: string (nullable = true)\n",
      " |-- customer_key: string (nullable = true)\n",
      " |-- employee_key: string (nullable = true)\n",
      " |-- office_key: string (nullable = true)\n",
      " |-- product_key: string (nullable = true)\n",
      " |-- order_date: timestamp (nullable = true)\n",
      " |-- order_required_date: timestamp (nullable = true)\n",
      " |-- order_shipped_date: timestamp (nullable = true)\n",
      " |-- quantity_ordered: integer (nullable = true)\n",
      " |-- product_price: decimal(38,18) (nullable = true)\n",
      " |-- profit: decimal(38,17) (nullable = true)\n",
      " |-- discount_percentage: decimal(38,6) (nullable = true)"
     ]
    }
   ],
   "source": [
    "fact_table_df.printSchema()"
   ]
  },
  {
   "cell_type": "markdown",
   "metadata": {},
   "source": [
    "##### __Expected Output__\n",
    "\n",
    "```\n",
    "root\n",
    " |-- fact_order_key: string (nullable = true)\n",
    " |-- customer_key: string (nullable = true)\n",
    " |-- employee_key: string (nullable = true)\n",
    " |-- office_key: string (nullable = true)\n",
    " |-- product_key: string (nullable = true)\n",
    " |-- order_date: timestamp (nullable = true)\n",
    " |-- order_required_date: timestamp (nullable = true)\n",
    " |-- order_shipped_date: timestamp (nullable = true)\n",
    " |-- quantity_ordered: integer (nullable = true)\n",
    " |-- product_price: decimal(38,18) (nullable = true)\n",
    " |-- profit: decimal(38,17) (nullable = true)\n",
    " |-- discount_percentage: decimal(38,6) (nullable = true)\n",
    "```"
   ]
  },
  {
   "cell_type": "markdown",
   "metadata": {},
   "source": [
    "In this lab, you have explored basic data transformation using Apache Spark, focusing on the capabilities of their Python API (PySpark) and Spark SQL. These tools are essential for data engineers, offering powerful and efficient methods for manipulating large datasets. Spark offers rich APIs and tools for data transformations, one of them being Spark SQL, which enables querying of structured data with SQL-like syntax. Although this dataset isn't particularly large, the same principles apply to larger data sources due to data parallelism."
   ]
  },
  {
   "cell_type": "markdown",
   "metadata": {},
   "source": [
    "<a name='5'></a>\n",
    "## 5 - Upload Files for Grading\n",
    "\n",
    "Upload the notebook into S3 bucket for grading purposes.\n",
    "\n",
    "*Note*: you may need to click **Save** button before the upload.\n",
    "\n",
    "In your AWS console, search again for **CloudShell** and click on it. Once the terminal is ready, execute the following two commands to upload your notebook:\n",
    "\n",
    "```bash\n",
    "export ACCOUNT_ID=$(aws sts get-caller-identity --query Account --output text)\n",
    "\n",
    "aws s3 cp s3://de-c4w3a1-$ACCOUNT_ID-us-east-1-emr-bucket/emr-studio/$(aws s3 ls s3://de-c4w3a1-$ACCOUNT_ID-us-east-1-emr-bucket/emr-studio --recursive | grep -o \"e-[^/]*\" | head -n 1)/C4_W3_Assignment.ipynb s3://de-c4w3a1-$ACCOUNT_ID-us-east-1-submission/C4_W3_Assignment_Learner.ipynb\n",
    "```"
   ]
  }
 ],
 "metadata": {
  "kernelspec": {
   "display_name": "PySpark",
   "language": "python",
   "name": "pysparkkernel"
  },
  "language_info": {
   "codemirror_mode": {
    "name": "python",
    "version": 3
   },
   "file_extension": ".py",
   "mimetype": "text/x-python",
   "name": "pyspark",
   "pygments_lexer": "python3"
  }
 },
 "nbformat": 4,
 "nbformat_minor": 4
}
